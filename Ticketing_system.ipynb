{
  "cells": [
    {
      "cell_type": "markdown",
      "metadata": {
        "id": "view-in-github",
        "colab_type": "text"
      },
      "source": [
        "<a href=\"https://colab.research.google.com/github/laytio/Ticketing-system-Task/blob/main/Ticketing_system_Task.ipynb\" target=\"_parent\"><img src=\"https://colab.research.google.com/assets/colab-badge.svg\" alt=\"Open In Colab\"/></a>"
      ]
    },
    {
      "cell_type": "markdown",
      "source": [
        "# **Install the required libraries**\n"
      ],
      "metadata": {
        "id": "R8epXZwgSR-r"
      }
    },
    {
      "cell_type": "code",
      "execution_count": 1,
      "metadata": {
        "colab": {
          "base_uri": "https://localhost:8080/"
        },
        "collapsed": true,
        "id": "2Bz7SayACnjf",
        "outputId": "0fec905a-3301-415a-b68e-ee87473487ce"
      },
      "outputs": [
        {
          "output_type": "stream",
          "name": "stdout",
          "text": [
            "Requirement already satisfied: pandas in /usr/local/lib/python3.10/dist-packages (2.1.4)\n",
            "Requirement already satisfied: scikit-learn in /usr/local/lib/python3.10/dist-packages (1.5.2)\n",
            "Requirement already satisfied: matplotlib in /usr/local/lib/python3.10/dist-packages (3.7.1)\n",
            "Requirement already satisfied: seaborn in /usr/local/lib/python3.10/dist-packages (0.13.1)\n",
            "Requirement already satisfied: nltk in /usr/local/lib/python3.10/dist-packages (3.8.1)\n",
            "Requirement already satisfied: transformers in /usr/local/lib/python3.10/dist-packages (4.44.2)\n",
            "Requirement already satisfied: torch in /usr/local/lib/python3.10/dist-packages (2.4.1+cu121)\n",
            "Collecting arabic_reshaper\n",
            "  Downloading arabic_reshaper-3.0.0-py3-none-any.whl.metadata (12 kB)\n",
            "Requirement already satisfied: wordcloud in /usr/local/lib/python3.10/dist-packages (1.9.3)\n",
            "Requirement already satisfied: numpy<2,>=1.22.4 in /usr/local/lib/python3.10/dist-packages (from pandas) (1.26.4)\n",
            "Requirement already satisfied: python-dateutil>=2.8.2 in /usr/local/lib/python3.10/dist-packages (from pandas) (2.8.2)\n",
            "Requirement already satisfied: pytz>=2020.1 in /usr/local/lib/python3.10/dist-packages (from pandas) (2024.2)\n",
            "Requirement already satisfied: tzdata>=2022.1 in /usr/local/lib/python3.10/dist-packages (from pandas) (2024.1)\n",
            "Requirement already satisfied: scipy>=1.6.0 in /usr/local/lib/python3.10/dist-packages (from scikit-learn) (1.13.1)\n",
            "Requirement already satisfied: joblib>=1.2.0 in /usr/local/lib/python3.10/dist-packages (from scikit-learn) (1.4.2)\n",
            "Requirement already satisfied: threadpoolctl>=3.1.0 in /usr/local/lib/python3.10/dist-packages (from scikit-learn) (3.5.0)\n",
            "Requirement already satisfied: contourpy>=1.0.1 in /usr/local/lib/python3.10/dist-packages (from matplotlib) (1.3.0)\n",
            "Requirement already satisfied: cycler>=0.10 in /usr/local/lib/python3.10/dist-packages (from matplotlib) (0.12.1)\n",
            "Requirement already satisfied: fonttools>=4.22.0 in /usr/local/lib/python3.10/dist-packages (from matplotlib) (4.53.1)\n",
            "Requirement already satisfied: kiwisolver>=1.0.1 in /usr/local/lib/python3.10/dist-packages (from matplotlib) (1.4.7)\n",
            "Requirement already satisfied: packaging>=20.0 in /usr/local/lib/python3.10/dist-packages (from matplotlib) (24.1)\n",
            "Requirement already satisfied: pillow>=6.2.0 in /usr/local/lib/python3.10/dist-packages (from matplotlib) (10.4.0)\n",
            "Requirement already satisfied: pyparsing>=2.3.1 in /usr/local/lib/python3.10/dist-packages (from matplotlib) (3.1.4)\n",
            "Requirement already satisfied: click in /usr/local/lib/python3.10/dist-packages (from nltk) (8.1.7)\n",
            "Requirement already satisfied: regex>=2021.8.3 in /usr/local/lib/python3.10/dist-packages (from nltk) (2024.9.11)\n",
            "Requirement already satisfied: tqdm in /usr/local/lib/python3.10/dist-packages (from nltk) (4.66.5)\n",
            "Requirement already satisfied: filelock in /usr/local/lib/python3.10/dist-packages (from transformers) (3.16.1)\n",
            "Requirement already satisfied: huggingface-hub<1.0,>=0.23.2 in /usr/local/lib/python3.10/dist-packages (from transformers) (0.24.7)\n",
            "Requirement already satisfied: pyyaml>=5.1 in /usr/local/lib/python3.10/dist-packages (from transformers) (6.0.2)\n",
            "Requirement already satisfied: requests in /usr/local/lib/python3.10/dist-packages (from transformers) (2.32.3)\n",
            "Requirement already satisfied: safetensors>=0.4.1 in /usr/local/lib/python3.10/dist-packages (from transformers) (0.4.5)\n",
            "Requirement already satisfied: tokenizers<0.20,>=0.19 in /usr/local/lib/python3.10/dist-packages (from transformers) (0.19.1)\n",
            "Requirement already satisfied: typing-extensions>=4.8.0 in /usr/local/lib/python3.10/dist-packages (from torch) (4.12.2)\n",
            "Requirement already satisfied: sympy in /usr/local/lib/python3.10/dist-packages (from torch) (1.13.3)\n",
            "Requirement already satisfied: networkx in /usr/local/lib/python3.10/dist-packages (from torch) (3.3)\n",
            "Requirement already satisfied: jinja2 in /usr/local/lib/python3.10/dist-packages (from torch) (3.1.4)\n",
            "Requirement already satisfied: fsspec in /usr/local/lib/python3.10/dist-packages (from torch) (2024.6.1)\n",
            "Requirement already satisfied: six>=1.5 in /usr/local/lib/python3.10/dist-packages (from python-dateutil>=2.8.2->pandas) (1.16.0)\n",
            "Requirement already satisfied: MarkupSafe>=2.0 in /usr/local/lib/python3.10/dist-packages (from jinja2->torch) (2.1.5)\n",
            "Requirement already satisfied: charset-normalizer<4,>=2 in /usr/local/lib/python3.10/dist-packages (from requests->transformers) (3.3.2)\n",
            "Requirement already satisfied: idna<4,>=2.5 in /usr/local/lib/python3.10/dist-packages (from requests->transformers) (3.10)\n",
            "Requirement already satisfied: urllib3<3,>=1.21.1 in /usr/local/lib/python3.10/dist-packages (from requests->transformers) (2.2.3)\n",
            "Requirement already satisfied: certifi>=2017.4.17 in /usr/local/lib/python3.10/dist-packages (from requests->transformers) (2024.8.30)\n",
            "Requirement already satisfied: mpmath<1.4,>=1.1.0 in /usr/local/lib/python3.10/dist-packages (from sympy->torch) (1.3.0)\n",
            "Downloading arabic_reshaper-3.0.0-py3-none-any.whl (20 kB)\n",
            "Installing collected packages: arabic_reshaper\n",
            "Successfully installed arabic_reshaper-3.0.0\n"
          ]
        }
      ],
      "source": [
        "# Install the required libraries\n",
        "!pip install pandas scikit-learn matplotlib seaborn nltk transformers torch arabic_reshaper wordcloud\n",
        "import pandas as pd\n",
        "import numpy as np\n",
        "import re\n",
        "import nltk\n",
        "from nltk.corpus import stopwords\n",
        "from nltk.tokenize import word_tokenize\n",
        "from collections import Counter\n",
        "import matplotlib.pyplot as plt\n",
        "from sklearn.model_selection import train_test_split\n",
        "from sklearn.feature_extraction.text import TfidfVectorizer\n",
        "from sklearn.decomposition import PCA\n",
        "from sklearn.ensemble import RandomForestClassifier\n",
        "from sklearn.svm import SVC\n",
        "from sklearn.metrics import accuracy_score, precision_score, recall_score, classification_report\n",
        "from transformers import BertTokenizer, BertForSequenceClassification, Trainer, TrainingArguments\n",
        "import torch"
      ]
    },
    {
      "cell_type": "markdown",
      "source": [
        "# **Loading the dataset**"
      ],
      "metadata": {
        "id": "MVDr4mTiS8YO"
      }
    },
    {
      "cell_type": "code",
      "execution_count": null,
      "metadata": {
        "colab": {
          "base_uri": "https://localhost:8080/"
        },
        "collapsed": true,
        "id": "GNGNeimYC1gM",
        "outputId": "d321886a-fb5b-4e60-9d24-8bc48483ecac"
      },
      "outputs": [
        {
          "output_type": "stream",
          "name": "stdout",
          "text": [
            "     No.         Date  1st-Response Date  Close Date  \\\n",
            "0  35209  44742.58333        44742.58889         NaN   \n",
            "1  35185  44742.38472        44742.40764         NaN   \n",
            "2  35182  44742.32847        44742.33889         NaN   \n",
            "3  35163  44741.50000        44741.50139         NaN   \n",
            "4  35158  44741.47014        44741.47708  44742.5625   \n",
            "\n",
            "                                        Request Type  \\\n",
            "0     MOH Central IT General : End User Devices : PC   \n",
            "1                     MOH Central IT General : Other   \n",
            "2  MOH Central IT General : Network : New Network...   \n",
            "3     MOH Central IT General : End User Devices : PC   \n",
            "4      MOH Central IT General : Security : Kaspersky   \n",
            "\n",
            "                                             Subject  \\\n",
            "0  طلب اصلاح جهاز بعيادة العظام - مستشفى السليل ا...   \n",
            "1  إعادة توجيه: إعادة توجيه: احتياج المستشفى من ا...   \n",
            "2                      انشاء 10 نقاط جديدة بشكل عاجل   \n",
            "3                                         PC BROBLEM   \n",
            "4             تحديث برنامج كاسبر _مستشفى شقراء العام   \n",
            "\n",
            "                      Status Priority         Company  \\\n",
            "0  In Progress/Awaiting Part   Medium  MOH-MIS-Riyadh   \n",
            "1                In Progress   Medium  MOH-MIS-Riyadh   \n",
            "2                In Progress   Medium  MOH-MIS-Riyadh   \n",
            "3                In Progress   Medium  MOH-MIS-Riyadh   \n",
            "4                     Closed   Medium  MOH-MIS-Riyadh   \n",
            "\n",
            "                                Location  \\\n",
            "0          Riyadh-Small-Suliel Hopsital    \n",
            "1          Riyadh-Tele-Hotet bani Sudair   \n",
            "2  Riyadh-Advanced-North Riyadh Hospital   \n",
            "3    Riyadh-Medium-King Salman Hospital    \n",
            "4        Riyadh -Small-Shaqraa Hospital    \n",
            "\n",
            "                                      Request Detail  \\\n",
            "0  *** This is an external email. Be Vigilant and...   \n",
            "1  *** This is an external email. Be Vigilant and...   \n",
            "2  *** This is an external email. Be Vigilant and...   \n",
            "3  *** This is an external email. Be Vigilant and...   \n",
            "4  *** This is an external email. Be Vigilant and...   \n",
            "\n",
            "                                               Notes Brand Name  \\\n",
            "0  <note date=\"6/30/22 2:18 pm\" author=\"a.abdullk...       DELL   \n",
            "1  <note date=\"6/30/22 9:47 am\" author=\"m.ezzat@c...       Null   \n",
            "2                                                NaN       Null   \n",
            "3  <note date=\"6/29/22 12:02 pm\" author=\"m.ezzat@...       Null   \n",
            "4  <note date=\"6/29/22 12:01 pm\" author=\"Omar.Muk...       Null   \n",
            "\n",
            "  Device Serial Number  \n",
            "0              DLH0PJ3  \n",
            "1                 Null  \n",
            "2                 Null  \n",
            "3              BL6ZQZI  \n",
            "4                 Null  \n"
          ]
        }
      ],
      "source": [
        "# Importing the pandas library for data manipulation\n",
        "import pandas as pd\n",
        "\n",
        "# Load the dataset from a CSV file into a pandas DataFrame\n",
        "data = pd.read_csv('/content/Book11.csv')\n",
        "\n",
        "# Display the first five rows of the DataFrame to understand its structure and contents\n",
        "print(data.head())\n"
      ]
    },
    {
      "cell_type": "markdown",
      "source": [
        "# **data visualization**"
      ],
      "metadata": {
        "id": "-2S52a4cTK6y"
      }
    },
    {
      "cell_type": "code",
      "source": [
        "# Check the tail of the dataset\n",
        "data.tail()"
      ],
      "metadata": {
        "collapsed": true,
        "colab": {
          "base_uri": "https://localhost:8080/",
          "height": 903
        },
        "id": "OpVx5E0v0A37",
        "outputId": "1d209fb4-81e7-4225-d6be-e9818decb41e"
      },
      "execution_count": null,
      "outputs": [
        {
          "output_type": "execute_result",
          "data": {
            "text/plain": [
              "        No.         Date  1st-Response Date   Close Date  \\\n",
              "1058  27555  44563.50069        44563.50139  44575.69653   \n",
              "1059  27545  44563.47708        44563.48542  44566.87292   \n",
              "1060  27540  44563.44306        44563.44444  44564.57014   \n",
              "1061  27533  44563.41458        44563.41528  44564.63681   \n",
              "1062  27530  44563.40486        44563.40694  44565.95764   \n",
              "\n",
              "                                           Request Type  \\\n",
              "1058  MOH Central IT General : Security : Firewall :...   \n",
              "1059  MOH Central IT General : End User Devices : Pr...   \n",
              "1060  MOH Central IT General : End User Devices : Pr...   \n",
              "1061  MOH Central IT General : Security : Firewall :...   \n",
              "1062  MOH Central IT General : End User Devices : Sc...   \n",
              "\n",
              "                                                Subject  Status Priority  \\\n",
              "1058          اضافة IP على DNS الخاص بمستشفى الرس العام  Closed   Medium   \n",
              "1059                  عطل بطابعة قسم القانونية والاتزام  Closed   Medium   \n",
              "1060                                       طابعه لاتعمل  Closed   Medium   \n",
              "1061  مشكله برنامج العيادة الافتراضيه والبرامج الاداريه  Closed   Medium   \n",
              "1062                                               scan  Closed   Medium   \n",
              "\n",
              "             Company                            Location  \\\n",
              "1058  MOH-MIS-Qassim      Qassim-medium-Alrass Hospital    \n",
              "1059  MOH-MIS-Qassim      Qassim-medium-Alrass Hospital    \n",
              "1060  MOH-MIS-Qassim   Qassim-small-Albekeryah Hospital    \n",
              "1061  MOH-MIS-Riyadh      Riyadh-Tele-Wathelan Hospital    \n",
              "1062  MOH-MIS-Riyadh  Riyadh-Advanced-Alyamamah Hospital   \n",
              "\n",
              "                                         Request Detail  \\\n",
              "1058  اتاحة خاصية لتمكنا من الدخول على DNS الخاص بال...   \n",
              "1059  طابعة متعطله بقسم القانونية والالتزام\\r\\rاسم ا...   \n",
              "1060  السادة شركة المعمر             المحترمين\\r\\rال...   \n",
              "1061  السلام عليكم ورحمة الله وبركاته\\r\\rالسادة شركة...   \n",
              "1062  صيانة scan kodack\\r\\r\\r\\r\\rتنبيه بإخلاء المسئو...   \n",
              "\n",
              "                                                  Notes Brand Name  \\\n",
              "1058  <note date=\"1/20/22 7:59 pm\" author=\"wd.mutasi...              \n",
              "1059  <note date=\"1/4/22 8:52 pm\" author=\"rashid.hus...         HP   \n",
              "1060  <note date=\"1/2/22 10:45 am\" author=\"rashid.hu...       Null   \n",
              "1061  <note date=\"1/2/22 3:16 pm\" author=\"Omar.Mukht...              \n",
              "1062  <note date=\"1/3/22 10:57 pm\" author=\"A.Javed@c...              \n",
              "\n",
              "     Device Serial Number  \n",
              "1058                       \n",
              "1059           vnc4359064  \n",
              "1060                 Null  \n",
              "1061                       \n",
              "1062                       "
            ],
            "text/html": [
              "\n",
              "  <div id=\"df-ef842c42-7ec6-4402-9480-ad3c2a9bb23c\" class=\"colab-df-container\">\n",
              "    <div>\n",
              "<style scoped>\n",
              "    .dataframe tbody tr th:only-of-type {\n",
              "        vertical-align: middle;\n",
              "    }\n",
              "\n",
              "    .dataframe tbody tr th {\n",
              "        vertical-align: top;\n",
              "    }\n",
              "\n",
              "    .dataframe thead th {\n",
              "        text-align: right;\n",
              "    }\n",
              "</style>\n",
              "<table border=\"1\" class=\"dataframe\">\n",
              "  <thead>\n",
              "    <tr style=\"text-align: right;\">\n",
              "      <th></th>\n",
              "      <th>No.</th>\n",
              "      <th>Date</th>\n",
              "      <th>1st-Response Date</th>\n",
              "      <th>Close Date</th>\n",
              "      <th>Request Type</th>\n",
              "      <th>Subject</th>\n",
              "      <th>Status</th>\n",
              "      <th>Priority</th>\n",
              "      <th>Company</th>\n",
              "      <th>Location</th>\n",
              "      <th>Request Detail</th>\n",
              "      <th>Notes</th>\n",
              "      <th>Brand Name</th>\n",
              "      <th>Device Serial Number</th>\n",
              "    </tr>\n",
              "  </thead>\n",
              "  <tbody>\n",
              "    <tr>\n",
              "      <th>1058</th>\n",
              "      <td>27555</td>\n",
              "      <td>44563.50069</td>\n",
              "      <td>44563.50139</td>\n",
              "      <td>44575.69653</td>\n",
              "      <td>MOH Central IT General : Security : Firewall :...</td>\n",
              "      <td>اضافة IP على DNS الخاص بمستشفى الرس العام</td>\n",
              "      <td>Closed</td>\n",
              "      <td>Medium</td>\n",
              "      <td>MOH-MIS-Qassim</td>\n",
              "      <td>Qassim-medium-Alrass Hospital</td>\n",
              "      <td>اتاحة خاصية لتمكنا من الدخول على DNS الخاص بال...</td>\n",
              "      <td>&lt;note date=\"1/20/22 7:59 pm\" author=\"wd.mutasi...</td>\n",
              "      <td></td>\n",
              "      <td></td>\n",
              "    </tr>\n",
              "    <tr>\n",
              "      <th>1059</th>\n",
              "      <td>27545</td>\n",
              "      <td>44563.47708</td>\n",
              "      <td>44563.48542</td>\n",
              "      <td>44566.87292</td>\n",
              "      <td>MOH Central IT General : End User Devices : Pr...</td>\n",
              "      <td>عطل بطابعة قسم القانونية والاتزام</td>\n",
              "      <td>Closed</td>\n",
              "      <td>Medium</td>\n",
              "      <td>MOH-MIS-Qassim</td>\n",
              "      <td>Qassim-medium-Alrass Hospital</td>\n",
              "      <td>طابعة متعطله بقسم القانونية والالتزام\\r\\rاسم ا...</td>\n",
              "      <td>&lt;note date=\"1/4/22 8:52 pm\" author=\"rashid.hus...</td>\n",
              "      <td>HP</td>\n",
              "      <td>vnc4359064</td>\n",
              "    </tr>\n",
              "    <tr>\n",
              "      <th>1060</th>\n",
              "      <td>27540</td>\n",
              "      <td>44563.44306</td>\n",
              "      <td>44563.44444</td>\n",
              "      <td>44564.57014</td>\n",
              "      <td>MOH Central IT General : End User Devices : Pr...</td>\n",
              "      <td>طابعه لاتعمل</td>\n",
              "      <td>Closed</td>\n",
              "      <td>Medium</td>\n",
              "      <td>MOH-MIS-Qassim</td>\n",
              "      <td>Qassim-small-Albekeryah Hospital</td>\n",
              "      <td>السادة شركة المعمر             المحترمين\\r\\rال...</td>\n",
              "      <td>&lt;note date=\"1/2/22 10:45 am\" author=\"rashid.hu...</td>\n",
              "      <td>Null</td>\n",
              "      <td>Null</td>\n",
              "    </tr>\n",
              "    <tr>\n",
              "      <th>1061</th>\n",
              "      <td>27533</td>\n",
              "      <td>44563.41458</td>\n",
              "      <td>44563.41528</td>\n",
              "      <td>44564.63681</td>\n",
              "      <td>MOH Central IT General : Security : Firewall :...</td>\n",
              "      <td>مشكله برنامج العيادة الافتراضيه والبرامج الاداريه</td>\n",
              "      <td>Closed</td>\n",
              "      <td>Medium</td>\n",
              "      <td>MOH-MIS-Riyadh</td>\n",
              "      <td>Riyadh-Tele-Wathelan Hospital</td>\n",
              "      <td>السلام عليكم ورحمة الله وبركاته\\r\\rالسادة شركة...</td>\n",
              "      <td>&lt;note date=\"1/2/22 3:16 pm\" author=\"Omar.Mukht...</td>\n",
              "      <td></td>\n",
              "      <td></td>\n",
              "    </tr>\n",
              "    <tr>\n",
              "      <th>1062</th>\n",
              "      <td>27530</td>\n",
              "      <td>44563.40486</td>\n",
              "      <td>44563.40694</td>\n",
              "      <td>44565.95764</td>\n",
              "      <td>MOH Central IT General : End User Devices : Sc...</td>\n",
              "      <td>scan</td>\n",
              "      <td>Closed</td>\n",
              "      <td>Medium</td>\n",
              "      <td>MOH-MIS-Riyadh</td>\n",
              "      <td>Riyadh-Advanced-Alyamamah Hospital</td>\n",
              "      <td>صيانة scan kodack\\r\\r\\r\\r\\rتنبيه بإخلاء المسئو...</td>\n",
              "      <td>&lt;note date=\"1/3/22 10:57 pm\" author=\"A.Javed@c...</td>\n",
              "      <td></td>\n",
              "      <td></td>\n",
              "    </tr>\n",
              "  </tbody>\n",
              "</table>\n",
              "</div>\n",
              "    <div class=\"colab-df-buttons\">\n",
              "\n",
              "  <div class=\"colab-df-container\">\n",
              "    <button class=\"colab-df-convert\" onclick=\"convertToInteractive('df-ef842c42-7ec6-4402-9480-ad3c2a9bb23c')\"\n",
              "            title=\"Convert this dataframe to an interactive table.\"\n",
              "            style=\"display:none;\">\n",
              "\n",
              "  <svg xmlns=\"http://www.w3.org/2000/svg\" height=\"24px\" viewBox=\"0 -960 960 960\">\n",
              "    <path d=\"M120-120v-720h720v720H120Zm60-500h600v-160H180v160Zm220 220h160v-160H400v160Zm0 220h160v-160H400v160ZM180-400h160v-160H180v160Zm440 0h160v-160H620v160ZM180-180h160v-160H180v160Zm440 0h160v-160H620v160Z\"/>\n",
              "  </svg>\n",
              "    </button>\n",
              "\n",
              "  <style>\n",
              "    .colab-df-container {\n",
              "      display:flex;\n",
              "      gap: 12px;\n",
              "    }\n",
              "\n",
              "    .colab-df-convert {\n",
              "      background-color: #E8F0FE;\n",
              "      border: none;\n",
              "      border-radius: 50%;\n",
              "      cursor: pointer;\n",
              "      display: none;\n",
              "      fill: #1967D2;\n",
              "      height: 32px;\n",
              "      padding: 0 0 0 0;\n",
              "      width: 32px;\n",
              "    }\n",
              "\n",
              "    .colab-df-convert:hover {\n",
              "      background-color: #E2EBFA;\n",
              "      box-shadow: 0px 1px 2px rgba(60, 64, 67, 0.3), 0px 1px 3px 1px rgba(60, 64, 67, 0.15);\n",
              "      fill: #174EA6;\n",
              "    }\n",
              "\n",
              "    .colab-df-buttons div {\n",
              "      margin-bottom: 4px;\n",
              "    }\n",
              "\n",
              "    [theme=dark] .colab-df-convert {\n",
              "      background-color: #3B4455;\n",
              "      fill: #D2E3FC;\n",
              "    }\n",
              "\n",
              "    [theme=dark] .colab-df-convert:hover {\n",
              "      background-color: #434B5C;\n",
              "      box-shadow: 0px 1px 3px 1px rgba(0, 0, 0, 0.15);\n",
              "      filter: drop-shadow(0px 1px 2px rgba(0, 0, 0, 0.3));\n",
              "      fill: #FFFFFF;\n",
              "    }\n",
              "  </style>\n",
              "\n",
              "    <script>\n",
              "      const buttonEl =\n",
              "        document.querySelector('#df-ef842c42-7ec6-4402-9480-ad3c2a9bb23c button.colab-df-convert');\n",
              "      buttonEl.style.display =\n",
              "        google.colab.kernel.accessAllowed ? 'block' : 'none';\n",
              "\n",
              "      async function convertToInteractive(key) {\n",
              "        const element = document.querySelector('#df-ef842c42-7ec6-4402-9480-ad3c2a9bb23c');\n",
              "        const dataTable =\n",
              "          await google.colab.kernel.invokeFunction('convertToInteractive',\n",
              "                                                    [key], {});\n",
              "        if (!dataTable) return;\n",
              "\n",
              "        const docLinkHtml = 'Like what you see? Visit the ' +\n",
              "          '<a target=\"_blank\" href=https://colab.research.google.com/notebooks/data_table.ipynb>data table notebook</a>'\n",
              "          + ' to learn more about interactive tables.';\n",
              "        element.innerHTML = '';\n",
              "        dataTable['output_type'] = 'display_data';\n",
              "        await google.colab.output.renderOutput(dataTable, element);\n",
              "        const docLink = document.createElement('div');\n",
              "        docLink.innerHTML = docLinkHtml;\n",
              "        element.appendChild(docLink);\n",
              "      }\n",
              "    </script>\n",
              "  </div>\n",
              "\n",
              "\n",
              "<div id=\"df-163af780-0b71-421d-be93-559fbe6e3b15\">\n",
              "  <button class=\"colab-df-quickchart\" onclick=\"quickchart('df-163af780-0b71-421d-be93-559fbe6e3b15')\"\n",
              "            title=\"Suggest charts\"\n",
              "            style=\"display:none;\">\n",
              "\n",
              "<svg xmlns=\"http://www.w3.org/2000/svg\" height=\"24px\"viewBox=\"0 0 24 24\"\n",
              "     width=\"24px\">\n",
              "    <g>\n",
              "        <path d=\"M19 3H5c-1.1 0-2 .9-2 2v14c0 1.1.9 2 2 2h14c1.1 0 2-.9 2-2V5c0-1.1-.9-2-2-2zM9 17H7v-7h2v7zm4 0h-2V7h2v10zm4 0h-2v-4h2v4z\"/>\n",
              "    </g>\n",
              "</svg>\n",
              "  </button>\n",
              "\n",
              "<style>\n",
              "  .colab-df-quickchart {\n",
              "      --bg-color: #E8F0FE;\n",
              "      --fill-color: #1967D2;\n",
              "      --hover-bg-color: #E2EBFA;\n",
              "      --hover-fill-color: #174EA6;\n",
              "      --disabled-fill-color: #AAA;\n",
              "      --disabled-bg-color: #DDD;\n",
              "  }\n",
              "\n",
              "  [theme=dark] .colab-df-quickchart {\n",
              "      --bg-color: #3B4455;\n",
              "      --fill-color: #D2E3FC;\n",
              "      --hover-bg-color: #434B5C;\n",
              "      --hover-fill-color: #FFFFFF;\n",
              "      --disabled-bg-color: #3B4455;\n",
              "      --disabled-fill-color: #666;\n",
              "  }\n",
              "\n",
              "  .colab-df-quickchart {\n",
              "    background-color: var(--bg-color);\n",
              "    border: none;\n",
              "    border-radius: 50%;\n",
              "    cursor: pointer;\n",
              "    display: none;\n",
              "    fill: var(--fill-color);\n",
              "    height: 32px;\n",
              "    padding: 0;\n",
              "    width: 32px;\n",
              "  }\n",
              "\n",
              "  .colab-df-quickchart:hover {\n",
              "    background-color: var(--hover-bg-color);\n",
              "    box-shadow: 0 1px 2px rgba(60, 64, 67, 0.3), 0 1px 3px 1px rgba(60, 64, 67, 0.15);\n",
              "    fill: var(--button-hover-fill-color);\n",
              "  }\n",
              "\n",
              "  .colab-df-quickchart-complete:disabled,\n",
              "  .colab-df-quickchart-complete:disabled:hover {\n",
              "    background-color: var(--disabled-bg-color);\n",
              "    fill: var(--disabled-fill-color);\n",
              "    box-shadow: none;\n",
              "  }\n",
              "\n",
              "  .colab-df-spinner {\n",
              "    border: 2px solid var(--fill-color);\n",
              "    border-color: transparent;\n",
              "    border-bottom-color: var(--fill-color);\n",
              "    animation:\n",
              "      spin 1s steps(1) infinite;\n",
              "  }\n",
              "\n",
              "  @keyframes spin {\n",
              "    0% {\n",
              "      border-color: transparent;\n",
              "      border-bottom-color: var(--fill-color);\n",
              "      border-left-color: var(--fill-color);\n",
              "    }\n",
              "    20% {\n",
              "      border-color: transparent;\n",
              "      border-left-color: var(--fill-color);\n",
              "      border-top-color: var(--fill-color);\n",
              "    }\n",
              "    30% {\n",
              "      border-color: transparent;\n",
              "      border-left-color: var(--fill-color);\n",
              "      border-top-color: var(--fill-color);\n",
              "      border-right-color: var(--fill-color);\n",
              "    }\n",
              "    40% {\n",
              "      border-color: transparent;\n",
              "      border-right-color: var(--fill-color);\n",
              "      border-top-color: var(--fill-color);\n",
              "    }\n",
              "    60% {\n",
              "      border-color: transparent;\n",
              "      border-right-color: var(--fill-color);\n",
              "    }\n",
              "    80% {\n",
              "      border-color: transparent;\n",
              "      border-right-color: var(--fill-color);\n",
              "      border-bottom-color: var(--fill-color);\n",
              "    }\n",
              "    90% {\n",
              "      border-color: transparent;\n",
              "      border-bottom-color: var(--fill-color);\n",
              "    }\n",
              "  }\n",
              "</style>\n",
              "\n",
              "  <script>\n",
              "    async function quickchart(key) {\n",
              "      const quickchartButtonEl =\n",
              "        document.querySelector('#' + key + ' button');\n",
              "      quickchartButtonEl.disabled = true;  // To prevent multiple clicks.\n",
              "      quickchartButtonEl.classList.add('colab-df-spinner');\n",
              "      try {\n",
              "        const charts = await google.colab.kernel.invokeFunction(\n",
              "            'suggestCharts', [key], {});\n",
              "      } catch (error) {\n",
              "        console.error('Error during call to suggestCharts:', error);\n",
              "      }\n",
              "      quickchartButtonEl.classList.remove('colab-df-spinner');\n",
              "      quickchartButtonEl.classList.add('colab-df-quickchart-complete');\n",
              "    }\n",
              "    (() => {\n",
              "      let quickchartButtonEl =\n",
              "        document.querySelector('#df-163af780-0b71-421d-be93-559fbe6e3b15 button');\n",
              "      quickchartButtonEl.style.display =\n",
              "        google.colab.kernel.accessAllowed ? 'block' : 'none';\n",
              "    })();\n",
              "  </script>\n",
              "</div>\n",
              "\n",
              "    </div>\n",
              "  </div>\n"
            ],
            "application/vnd.google.colaboratory.intrinsic+json": {
              "type": "dataframe",
              "repr_error": "0"
            }
          },
          "metadata": {},
          "execution_count": 10
        }
      ]
    },
    {
      "cell_type": "code",
      "execution_count": null,
      "metadata": {
        "colab": {
          "base_uri": "https://localhost:8080/"
        },
        "collapsed": true,
        "id": "BAIAXu4O25QV",
        "outputId": "8bcc6491-88cb-41b0-abb4-6a38e3528f1c"
      },
      "outputs": [
        {
          "output_type": "stream",
          "name": "stdout",
          "text": [
            "<class 'pandas.core.frame.DataFrame'>\n",
            "RangeIndex: 1063 entries, 0 to 1062\n",
            "Data columns (total 14 columns):\n",
            " #   Column                Non-Null Count  Dtype  \n",
            "---  ------                --------------  -----  \n",
            " 0   No.                   1063 non-null   int64  \n",
            " 1   Date                  1063 non-null   float64\n",
            " 2   1st-Response Date     1063 non-null   float64\n",
            " 3   Close Date            1063 non-null   object \n",
            " 4   Request Type          1063 non-null   object \n",
            " 5   Subject               1063 non-null   object \n",
            " 6   Status                1063 non-null   object \n",
            " 7   Priority              1063 non-null   object \n",
            " 8   Company               1063 non-null   object \n",
            " 9   Location              1063 non-null   object \n",
            " 10  Request Detail        1063 non-null   object \n",
            " 11  Notes                 1063 non-null   object \n",
            " 12  Brand Name            1063 non-null   object \n",
            " 13  Device Serial Number  1063 non-null   object \n",
            "dtypes: float64(2), int64(1), object(11)\n",
            "memory usage: 116.4+ KB\n"
          ]
        }
      ],
      "source": [
        "# Get more info on it\n",
        "# 1. Name of the columns\n",
        "# 2. Find the data types of each columns\n",
        "# 3. Look for any null/missing values\n",
        "data.info()"
      ]
    },
    {
      "cell_type": "code",
      "source": [
        "# Describe the dataset with various summary and statistics\n",
        "data.describe()"
      ],
      "metadata": {
        "collapsed": true,
        "colab": {
          "base_uri": "https://localhost:8080/",
          "height": 300
        },
        "id": "HEfs4Xbl0Wgz",
        "outputId": "aefa5fba-6379-4b5c-b514-2382f19197e3"
      },
      "execution_count": null,
      "outputs": [
        {
          "output_type": "execute_result",
          "data": {
            "text/plain": [
              "                No.          Date  1st-Response Date\n",
              "count   1063.000000   1063.000000        1063.000000\n",
              "mean   31442.286924  44652.014522       44651.944302\n",
              "std     2117.458564     53.329518          53.422992\n",
              "min    27530.000000  44563.404860       44537.852080\n",
              "25%    29817.000000  44606.973960       44606.735415\n",
              "50%    31411.000000  44644.586810       44644.588190\n",
              "75%    33163.500000  44700.397570       44700.397920\n",
              "max    35209.000000  44742.583330       44742.588890"
            ],
            "text/html": [
              "\n",
              "  <div id=\"df-b7f8576a-ab8a-4d95-a35c-e4fffb50ab31\" class=\"colab-df-container\">\n",
              "    <div>\n",
              "<style scoped>\n",
              "    .dataframe tbody tr th:only-of-type {\n",
              "        vertical-align: middle;\n",
              "    }\n",
              "\n",
              "    .dataframe tbody tr th {\n",
              "        vertical-align: top;\n",
              "    }\n",
              "\n",
              "    .dataframe thead th {\n",
              "        text-align: right;\n",
              "    }\n",
              "</style>\n",
              "<table border=\"1\" class=\"dataframe\">\n",
              "  <thead>\n",
              "    <tr style=\"text-align: right;\">\n",
              "      <th></th>\n",
              "      <th>No.</th>\n",
              "      <th>Date</th>\n",
              "      <th>1st-Response Date</th>\n",
              "    </tr>\n",
              "  </thead>\n",
              "  <tbody>\n",
              "    <tr>\n",
              "      <th>count</th>\n",
              "      <td>1063.000000</td>\n",
              "      <td>1063.000000</td>\n",
              "      <td>1063.000000</td>\n",
              "    </tr>\n",
              "    <tr>\n",
              "      <th>mean</th>\n",
              "      <td>31442.286924</td>\n",
              "      <td>44652.014522</td>\n",
              "      <td>44651.944302</td>\n",
              "    </tr>\n",
              "    <tr>\n",
              "      <th>std</th>\n",
              "      <td>2117.458564</td>\n",
              "      <td>53.329518</td>\n",
              "      <td>53.422992</td>\n",
              "    </tr>\n",
              "    <tr>\n",
              "      <th>min</th>\n",
              "      <td>27530.000000</td>\n",
              "      <td>44563.404860</td>\n",
              "      <td>44537.852080</td>\n",
              "    </tr>\n",
              "    <tr>\n",
              "      <th>25%</th>\n",
              "      <td>29817.000000</td>\n",
              "      <td>44606.973960</td>\n",
              "      <td>44606.735415</td>\n",
              "    </tr>\n",
              "    <tr>\n",
              "      <th>50%</th>\n",
              "      <td>31411.000000</td>\n",
              "      <td>44644.586810</td>\n",
              "      <td>44644.588190</td>\n",
              "    </tr>\n",
              "    <tr>\n",
              "      <th>75%</th>\n",
              "      <td>33163.500000</td>\n",
              "      <td>44700.397570</td>\n",
              "      <td>44700.397920</td>\n",
              "    </tr>\n",
              "    <tr>\n",
              "      <th>max</th>\n",
              "      <td>35209.000000</td>\n",
              "      <td>44742.583330</td>\n",
              "      <td>44742.588890</td>\n",
              "    </tr>\n",
              "  </tbody>\n",
              "</table>\n",
              "</div>\n",
              "    <div class=\"colab-df-buttons\">\n",
              "\n",
              "  <div class=\"colab-df-container\">\n",
              "    <button class=\"colab-df-convert\" onclick=\"convertToInteractive('df-b7f8576a-ab8a-4d95-a35c-e4fffb50ab31')\"\n",
              "            title=\"Convert this dataframe to an interactive table.\"\n",
              "            style=\"display:none;\">\n",
              "\n",
              "  <svg xmlns=\"http://www.w3.org/2000/svg\" height=\"24px\" viewBox=\"0 -960 960 960\">\n",
              "    <path d=\"M120-120v-720h720v720H120Zm60-500h600v-160H180v160Zm220 220h160v-160H400v160Zm0 220h160v-160H400v160ZM180-400h160v-160H180v160Zm440 0h160v-160H620v160ZM180-180h160v-160H180v160Zm440 0h160v-160H620v160Z\"/>\n",
              "  </svg>\n",
              "    </button>\n",
              "\n",
              "  <style>\n",
              "    .colab-df-container {\n",
              "      display:flex;\n",
              "      gap: 12px;\n",
              "    }\n",
              "\n",
              "    .colab-df-convert {\n",
              "      background-color: #E8F0FE;\n",
              "      border: none;\n",
              "      border-radius: 50%;\n",
              "      cursor: pointer;\n",
              "      display: none;\n",
              "      fill: #1967D2;\n",
              "      height: 32px;\n",
              "      padding: 0 0 0 0;\n",
              "      width: 32px;\n",
              "    }\n",
              "\n",
              "    .colab-df-convert:hover {\n",
              "      background-color: #E2EBFA;\n",
              "      box-shadow: 0px 1px 2px rgba(60, 64, 67, 0.3), 0px 1px 3px 1px rgba(60, 64, 67, 0.15);\n",
              "      fill: #174EA6;\n",
              "    }\n",
              "\n",
              "    .colab-df-buttons div {\n",
              "      margin-bottom: 4px;\n",
              "    }\n",
              "\n",
              "    [theme=dark] .colab-df-convert {\n",
              "      background-color: #3B4455;\n",
              "      fill: #D2E3FC;\n",
              "    }\n",
              "\n",
              "    [theme=dark] .colab-df-convert:hover {\n",
              "      background-color: #434B5C;\n",
              "      box-shadow: 0px 1px 3px 1px rgba(0, 0, 0, 0.15);\n",
              "      filter: drop-shadow(0px 1px 2px rgba(0, 0, 0, 0.3));\n",
              "      fill: #FFFFFF;\n",
              "    }\n",
              "  </style>\n",
              "\n",
              "    <script>\n",
              "      const buttonEl =\n",
              "        document.querySelector('#df-b7f8576a-ab8a-4d95-a35c-e4fffb50ab31 button.colab-df-convert');\n",
              "      buttonEl.style.display =\n",
              "        google.colab.kernel.accessAllowed ? 'block' : 'none';\n",
              "\n",
              "      async function convertToInteractive(key) {\n",
              "        const element = document.querySelector('#df-b7f8576a-ab8a-4d95-a35c-e4fffb50ab31');\n",
              "        const dataTable =\n",
              "          await google.colab.kernel.invokeFunction('convertToInteractive',\n",
              "                                                    [key], {});\n",
              "        if (!dataTable) return;\n",
              "\n",
              "        const docLinkHtml = 'Like what you see? Visit the ' +\n",
              "          '<a target=\"_blank\" href=https://colab.research.google.com/notebooks/data_table.ipynb>data table notebook</a>'\n",
              "          + ' to learn more about interactive tables.';\n",
              "        element.innerHTML = '';\n",
              "        dataTable['output_type'] = 'display_data';\n",
              "        await google.colab.output.renderOutput(dataTable, element);\n",
              "        const docLink = document.createElement('div');\n",
              "        docLink.innerHTML = docLinkHtml;\n",
              "        element.appendChild(docLink);\n",
              "      }\n",
              "    </script>\n",
              "  </div>\n",
              "\n",
              "\n",
              "<div id=\"df-0d12118a-fec9-461d-b8cb-254b16071c79\">\n",
              "  <button class=\"colab-df-quickchart\" onclick=\"quickchart('df-0d12118a-fec9-461d-b8cb-254b16071c79')\"\n",
              "            title=\"Suggest charts\"\n",
              "            style=\"display:none;\">\n",
              "\n",
              "<svg xmlns=\"http://www.w3.org/2000/svg\" height=\"24px\"viewBox=\"0 0 24 24\"\n",
              "     width=\"24px\">\n",
              "    <g>\n",
              "        <path d=\"M19 3H5c-1.1 0-2 .9-2 2v14c0 1.1.9 2 2 2h14c1.1 0 2-.9 2-2V5c0-1.1-.9-2-2-2zM9 17H7v-7h2v7zm4 0h-2V7h2v10zm4 0h-2v-4h2v4z\"/>\n",
              "    </g>\n",
              "</svg>\n",
              "  </button>\n",
              "\n",
              "<style>\n",
              "  .colab-df-quickchart {\n",
              "      --bg-color: #E8F0FE;\n",
              "      --fill-color: #1967D2;\n",
              "      --hover-bg-color: #E2EBFA;\n",
              "      --hover-fill-color: #174EA6;\n",
              "      --disabled-fill-color: #AAA;\n",
              "      --disabled-bg-color: #DDD;\n",
              "  }\n",
              "\n",
              "  [theme=dark] .colab-df-quickchart {\n",
              "      --bg-color: #3B4455;\n",
              "      --fill-color: #D2E3FC;\n",
              "      --hover-bg-color: #434B5C;\n",
              "      --hover-fill-color: #FFFFFF;\n",
              "      --disabled-bg-color: #3B4455;\n",
              "      --disabled-fill-color: #666;\n",
              "  }\n",
              "\n",
              "  .colab-df-quickchart {\n",
              "    background-color: var(--bg-color);\n",
              "    border: none;\n",
              "    border-radius: 50%;\n",
              "    cursor: pointer;\n",
              "    display: none;\n",
              "    fill: var(--fill-color);\n",
              "    height: 32px;\n",
              "    padding: 0;\n",
              "    width: 32px;\n",
              "  }\n",
              "\n",
              "  .colab-df-quickchart:hover {\n",
              "    background-color: var(--hover-bg-color);\n",
              "    box-shadow: 0 1px 2px rgba(60, 64, 67, 0.3), 0 1px 3px 1px rgba(60, 64, 67, 0.15);\n",
              "    fill: var(--button-hover-fill-color);\n",
              "  }\n",
              "\n",
              "  .colab-df-quickchart-complete:disabled,\n",
              "  .colab-df-quickchart-complete:disabled:hover {\n",
              "    background-color: var(--disabled-bg-color);\n",
              "    fill: var(--disabled-fill-color);\n",
              "    box-shadow: none;\n",
              "  }\n",
              "\n",
              "  .colab-df-spinner {\n",
              "    border: 2px solid var(--fill-color);\n",
              "    border-color: transparent;\n",
              "    border-bottom-color: var(--fill-color);\n",
              "    animation:\n",
              "      spin 1s steps(1) infinite;\n",
              "  }\n",
              "\n",
              "  @keyframes spin {\n",
              "    0% {\n",
              "      border-color: transparent;\n",
              "      border-bottom-color: var(--fill-color);\n",
              "      border-left-color: var(--fill-color);\n",
              "    }\n",
              "    20% {\n",
              "      border-color: transparent;\n",
              "      border-left-color: var(--fill-color);\n",
              "      border-top-color: var(--fill-color);\n",
              "    }\n",
              "    30% {\n",
              "      border-color: transparent;\n",
              "      border-left-color: var(--fill-color);\n",
              "      border-top-color: var(--fill-color);\n",
              "      border-right-color: var(--fill-color);\n",
              "    }\n",
              "    40% {\n",
              "      border-color: transparent;\n",
              "      border-right-color: var(--fill-color);\n",
              "      border-top-color: var(--fill-color);\n",
              "    }\n",
              "    60% {\n",
              "      border-color: transparent;\n",
              "      border-right-color: var(--fill-color);\n",
              "    }\n",
              "    80% {\n",
              "      border-color: transparent;\n",
              "      border-right-color: var(--fill-color);\n",
              "      border-bottom-color: var(--fill-color);\n",
              "    }\n",
              "    90% {\n",
              "      border-color: transparent;\n",
              "      border-bottom-color: var(--fill-color);\n",
              "    }\n",
              "  }\n",
              "</style>\n",
              "\n",
              "  <script>\n",
              "    async function quickchart(key) {\n",
              "      const quickchartButtonEl =\n",
              "        document.querySelector('#' + key + ' button');\n",
              "      quickchartButtonEl.disabled = true;  // To prevent multiple clicks.\n",
              "      quickchartButtonEl.classList.add('colab-df-spinner');\n",
              "      try {\n",
              "        const charts = await google.colab.kernel.invokeFunction(\n",
              "            'suggestCharts', [key], {});\n",
              "      } catch (error) {\n",
              "        console.error('Error during call to suggestCharts:', error);\n",
              "      }\n",
              "      quickchartButtonEl.classList.remove('colab-df-spinner');\n",
              "      quickchartButtonEl.classList.add('colab-df-quickchart-complete');\n",
              "    }\n",
              "    (() => {\n",
              "      let quickchartButtonEl =\n",
              "        document.querySelector('#df-0d12118a-fec9-461d-b8cb-254b16071c79 button');\n",
              "      quickchartButtonEl.style.display =\n",
              "        google.colab.kernel.accessAllowed ? 'block' : 'none';\n",
              "    })();\n",
              "  </script>\n",
              "</div>\n",
              "\n",
              "    </div>\n",
              "  </div>\n"
            ],
            "application/vnd.google.colaboratory.intrinsic+json": {
              "type": "dataframe",
              "summary": "{\n  \"name\": \"data\",\n  \"rows\": 8,\n  \"fields\": [\n    {\n      \"column\": \"No.\",\n      \"properties\": {\n        \"dtype\": \"number\",\n        \"std\": 13995.73575678592,\n        \"min\": 1063.0,\n        \"max\": 35209.0,\n        \"num_unique_values\": 8,\n        \"samples\": [\n          31442.286923800566,\n          31411.0,\n          1063.0\n        ],\n        \"semantic_type\": \"\",\n        \"description\": \"\"\n      }\n    },\n    {\n      \"column\": \"Date\",\n      \"properties\": {\n        \"dtype\": \"number\",\n        \"std\": 20413.17747600998,\n        \"min\": 53.329517720046326,\n        \"max\": 44742.58333,\n        \"num_unique_values\": 8,\n        \"samples\": [\n          44652.01452173095,\n          44644.58681,\n          1063.0\n        ],\n        \"semantic_type\": \"\",\n        \"description\": \"\"\n      }\n    },\n    {\n      \"column\": \"1st-Response Date\",\n      \"properties\": {\n        \"dtype\": \"number\",\n        \"std\": 20411.178751966898,\n        \"min\": 53.422992447452785,\n        \"max\": 44742.58889,\n        \"num_unique_values\": 8,\n        \"samples\": [\n          44651.944301966134,\n          44644.58819,\n          1063.0\n        ],\n        \"semantic_type\": \"\",\n        \"description\": \"\"\n      }\n    }\n  ]\n}"
            }
          },
          "metadata": {},
          "execution_count": 12
        }
      ]
    },
    {
      "cell_type": "code",
      "execution_count": null,
      "metadata": {
        "colab": {
          "base_uri": "https://localhost:8080/",
          "height": 523
        },
        "collapsed": true,
        "id": "1lWJm7lo25QW",
        "outputId": "c1f0e8e0-c452-4d71-ad0b-2168fb53a899"
      },
      "outputs": [
        {
          "output_type": "execute_result",
          "data": {
            "text/plain": [
              "No.                     0\n",
              "Date                    0\n",
              "1st-Response Date       0\n",
              "Close Date              0\n",
              "Request Type            0\n",
              "Subject                 0\n",
              "Status                  0\n",
              "Priority                0\n",
              "Company                 0\n",
              "Location                0\n",
              "Request Detail          0\n",
              "Notes                   0\n",
              "Brand Name              0\n",
              "Device Serial Number    0\n",
              "dtype: int64"
            ],
            "text/html": [
              "<div>\n",
              "<style scoped>\n",
              "    .dataframe tbody tr th:only-of-type {\n",
              "        vertical-align: middle;\n",
              "    }\n",
              "\n",
              "    .dataframe tbody tr th {\n",
              "        vertical-align: top;\n",
              "    }\n",
              "\n",
              "    .dataframe thead th {\n",
              "        text-align: right;\n",
              "    }\n",
              "</style>\n",
              "<table border=\"1\" class=\"dataframe\">\n",
              "  <thead>\n",
              "    <tr style=\"text-align: right;\">\n",
              "      <th></th>\n",
              "      <th>0</th>\n",
              "    </tr>\n",
              "  </thead>\n",
              "  <tbody>\n",
              "    <tr>\n",
              "      <th>No.</th>\n",
              "      <td>0</td>\n",
              "    </tr>\n",
              "    <tr>\n",
              "      <th>Date</th>\n",
              "      <td>0</td>\n",
              "    </tr>\n",
              "    <tr>\n",
              "      <th>1st-Response Date</th>\n",
              "      <td>0</td>\n",
              "    </tr>\n",
              "    <tr>\n",
              "      <th>Close Date</th>\n",
              "      <td>0</td>\n",
              "    </tr>\n",
              "    <tr>\n",
              "      <th>Request Type</th>\n",
              "      <td>0</td>\n",
              "    </tr>\n",
              "    <tr>\n",
              "      <th>Subject</th>\n",
              "      <td>0</td>\n",
              "    </tr>\n",
              "    <tr>\n",
              "      <th>Status</th>\n",
              "      <td>0</td>\n",
              "    </tr>\n",
              "    <tr>\n",
              "      <th>Priority</th>\n",
              "      <td>0</td>\n",
              "    </tr>\n",
              "    <tr>\n",
              "      <th>Company</th>\n",
              "      <td>0</td>\n",
              "    </tr>\n",
              "    <tr>\n",
              "      <th>Location</th>\n",
              "      <td>0</td>\n",
              "    </tr>\n",
              "    <tr>\n",
              "      <th>Request Detail</th>\n",
              "      <td>0</td>\n",
              "    </tr>\n",
              "    <tr>\n",
              "      <th>Notes</th>\n",
              "      <td>0</td>\n",
              "    </tr>\n",
              "    <tr>\n",
              "      <th>Brand Name</th>\n",
              "      <td>0</td>\n",
              "    </tr>\n",
              "    <tr>\n",
              "      <th>Device Serial Number</th>\n",
              "      <td>0</td>\n",
              "    </tr>\n",
              "  </tbody>\n",
              "</table>\n",
              "</div><br><label><b>dtype:</b> int64</label>"
            ]
          },
          "metadata": {},
          "execution_count": 13
        }
      ],
      "source": [
        "# Find out the null value counts in each column\n",
        "data.isnull().sum()"
      ]
    },
    {
      "cell_type": "code",
      "source": [
        "# Let's look at the rows with null values\n",
        "data[pd.isnull(data).any(axis=1)]"
      ],
      "metadata": {
        "collapsed": true,
        "colab": {
          "base_uri": "https://localhost:8080/",
          "height": 67
        },
        "id": "Ba7gfmGw0neq",
        "outputId": "9119ef78-c0bf-4fe3-a270-0a80c5bba163"
      },
      "execution_count": null,
      "outputs": [
        {
          "output_type": "execute_result",
          "data": {
            "text/plain": [
              "Empty DataFrame\n",
              "Columns: [No., Date, 1st-Response Date, Close Date, Request Type, Subject, Status, Priority, Company, Location, Request Detail, Notes, Brand Name, Device Serial Number]\n",
              "Index: []"
            ],
            "text/html": [
              "\n",
              "  <div id=\"df-2d960475-14ab-45d0-9341-b0b284289907\" class=\"colab-df-container\">\n",
              "    <div>\n",
              "<style scoped>\n",
              "    .dataframe tbody tr th:only-of-type {\n",
              "        vertical-align: middle;\n",
              "    }\n",
              "\n",
              "    .dataframe tbody tr th {\n",
              "        vertical-align: top;\n",
              "    }\n",
              "\n",
              "    .dataframe thead th {\n",
              "        text-align: right;\n",
              "    }\n",
              "</style>\n",
              "<table border=\"1\" class=\"dataframe\">\n",
              "  <thead>\n",
              "    <tr style=\"text-align: right;\">\n",
              "      <th></th>\n",
              "      <th>No.</th>\n",
              "      <th>Date</th>\n",
              "      <th>1st-Response Date</th>\n",
              "      <th>Close Date</th>\n",
              "      <th>Request Type</th>\n",
              "      <th>Subject</th>\n",
              "      <th>Status</th>\n",
              "      <th>Priority</th>\n",
              "      <th>Company</th>\n",
              "      <th>Location</th>\n",
              "      <th>Request Detail</th>\n",
              "      <th>Notes</th>\n",
              "      <th>Brand Name</th>\n",
              "      <th>Device Serial Number</th>\n",
              "    </tr>\n",
              "  </thead>\n",
              "  <tbody>\n",
              "  </tbody>\n",
              "</table>\n",
              "</div>\n",
              "    <div class=\"colab-df-buttons\">\n",
              "\n",
              "  <div class=\"colab-df-container\">\n",
              "    <button class=\"colab-df-convert\" onclick=\"convertToInteractive('df-2d960475-14ab-45d0-9341-b0b284289907')\"\n",
              "            title=\"Convert this dataframe to an interactive table.\"\n",
              "            style=\"display:none;\">\n",
              "\n",
              "  <svg xmlns=\"http://www.w3.org/2000/svg\" height=\"24px\" viewBox=\"0 -960 960 960\">\n",
              "    <path d=\"M120-120v-720h720v720H120Zm60-500h600v-160H180v160Zm220 220h160v-160H400v160Zm0 220h160v-160H400v160ZM180-400h160v-160H180v160Zm440 0h160v-160H620v160ZM180-180h160v-160H180v160Zm440 0h160v-160H620v160Z\"/>\n",
              "  </svg>\n",
              "    </button>\n",
              "\n",
              "  <style>\n",
              "    .colab-df-container {\n",
              "      display:flex;\n",
              "      gap: 12px;\n",
              "    }\n",
              "\n",
              "    .colab-df-convert {\n",
              "      background-color: #E8F0FE;\n",
              "      border: none;\n",
              "      border-radius: 50%;\n",
              "      cursor: pointer;\n",
              "      display: none;\n",
              "      fill: #1967D2;\n",
              "      height: 32px;\n",
              "      padding: 0 0 0 0;\n",
              "      width: 32px;\n",
              "    }\n",
              "\n",
              "    .colab-df-convert:hover {\n",
              "      background-color: #E2EBFA;\n",
              "      box-shadow: 0px 1px 2px rgba(60, 64, 67, 0.3), 0px 1px 3px 1px rgba(60, 64, 67, 0.15);\n",
              "      fill: #174EA6;\n",
              "    }\n",
              "\n",
              "    .colab-df-buttons div {\n",
              "      margin-bottom: 4px;\n",
              "    }\n",
              "\n",
              "    [theme=dark] .colab-df-convert {\n",
              "      background-color: #3B4455;\n",
              "      fill: #D2E3FC;\n",
              "    }\n",
              "\n",
              "    [theme=dark] .colab-df-convert:hover {\n",
              "      background-color: #434B5C;\n",
              "      box-shadow: 0px 1px 3px 1px rgba(0, 0, 0, 0.15);\n",
              "      filter: drop-shadow(0px 1px 2px rgba(0, 0, 0, 0.3));\n",
              "      fill: #FFFFFF;\n",
              "    }\n",
              "  </style>\n",
              "\n",
              "    <script>\n",
              "      const buttonEl =\n",
              "        document.querySelector('#df-2d960475-14ab-45d0-9341-b0b284289907 button.colab-df-convert');\n",
              "      buttonEl.style.display =\n",
              "        google.colab.kernel.accessAllowed ? 'block' : 'none';\n",
              "\n",
              "      async function convertToInteractive(key) {\n",
              "        const element = document.querySelector('#df-2d960475-14ab-45d0-9341-b0b284289907');\n",
              "        const dataTable =\n",
              "          await google.colab.kernel.invokeFunction('convertToInteractive',\n",
              "                                                    [key], {});\n",
              "        if (!dataTable) return;\n",
              "\n",
              "        const docLinkHtml = 'Like what you see? Visit the ' +\n",
              "          '<a target=\"_blank\" href=https://colab.research.google.com/notebooks/data_table.ipynb>data table notebook</a>'\n",
              "          + ' to learn more about interactive tables.';\n",
              "        element.innerHTML = '';\n",
              "        dataTable['output_type'] = 'display_data';\n",
              "        await google.colab.output.renderOutput(dataTable, element);\n",
              "        const docLink = document.createElement('div');\n",
              "        docLink.innerHTML = docLinkHtml;\n",
              "        element.appendChild(docLink);\n",
              "      }\n",
              "    </script>\n",
              "  </div>\n",
              "\n",
              "\n",
              "    </div>\n",
              "  </div>\n"
            ],
            "application/vnd.google.colaboratory.intrinsic+json": {
              "type": "dataframe",
              "repr_error": "Out of range float values are not JSON compliant: nan"
            }
          },
          "metadata": {},
          "execution_count": 14
        }
      ]
    },
    {
      "cell_type": "code",
      "source": [
        "# NULL replacement\n",
        "data.fillna(str(), inplace=True)\n",
        "data[pd.isnull(data).any(axis=1)]"
      ],
      "metadata": {
        "collapsed": true,
        "colab": {
          "base_uri": "https://localhost:8080/",
          "height": 67
        },
        "id": "ZXwf-L7c0zoi",
        "outputId": "65725d87-7287-49d8-d40d-a95101f11471"
      },
      "execution_count": null,
      "outputs": [
        {
          "output_type": "execute_result",
          "data": {
            "text/plain": [
              "Empty DataFrame\n",
              "Columns: [No., Date, 1st-Response Date, Close Date, Request Type, Subject, Status, Priority, Company, Location, Request Detail, Notes, Brand Name, Device Serial Number]\n",
              "Index: []"
            ],
            "text/html": [
              "\n",
              "  <div id=\"df-aced2bc2-63ec-49f1-b893-e9e8efe2fa97\" class=\"colab-df-container\">\n",
              "    <div>\n",
              "<style scoped>\n",
              "    .dataframe tbody tr th:only-of-type {\n",
              "        vertical-align: middle;\n",
              "    }\n",
              "\n",
              "    .dataframe tbody tr th {\n",
              "        vertical-align: top;\n",
              "    }\n",
              "\n",
              "    .dataframe thead th {\n",
              "        text-align: right;\n",
              "    }\n",
              "</style>\n",
              "<table border=\"1\" class=\"dataframe\">\n",
              "  <thead>\n",
              "    <tr style=\"text-align: right;\">\n",
              "      <th></th>\n",
              "      <th>No.</th>\n",
              "      <th>Date</th>\n",
              "      <th>1st-Response Date</th>\n",
              "      <th>Close Date</th>\n",
              "      <th>Request Type</th>\n",
              "      <th>Subject</th>\n",
              "      <th>Status</th>\n",
              "      <th>Priority</th>\n",
              "      <th>Company</th>\n",
              "      <th>Location</th>\n",
              "      <th>Request Detail</th>\n",
              "      <th>Notes</th>\n",
              "      <th>Brand Name</th>\n",
              "      <th>Device Serial Number</th>\n",
              "    </tr>\n",
              "  </thead>\n",
              "  <tbody>\n",
              "  </tbody>\n",
              "</table>\n",
              "</div>\n",
              "    <div class=\"colab-df-buttons\">\n",
              "\n",
              "  <div class=\"colab-df-container\">\n",
              "    <button class=\"colab-df-convert\" onclick=\"convertToInteractive('df-aced2bc2-63ec-49f1-b893-e9e8efe2fa97')\"\n",
              "            title=\"Convert this dataframe to an interactive table.\"\n",
              "            style=\"display:none;\">\n",
              "\n",
              "  <svg xmlns=\"http://www.w3.org/2000/svg\" height=\"24px\" viewBox=\"0 -960 960 960\">\n",
              "    <path d=\"M120-120v-720h720v720H120Zm60-500h600v-160H180v160Zm220 220h160v-160H400v160Zm0 220h160v-160H400v160ZM180-400h160v-160H180v160Zm440 0h160v-160H620v160ZM180-180h160v-160H180v160Zm440 0h160v-160H620v160Z\"/>\n",
              "  </svg>\n",
              "    </button>\n",
              "\n",
              "  <style>\n",
              "    .colab-df-container {\n",
              "      display:flex;\n",
              "      gap: 12px;\n",
              "    }\n",
              "\n",
              "    .colab-df-convert {\n",
              "      background-color: #E8F0FE;\n",
              "      border: none;\n",
              "      border-radius: 50%;\n",
              "      cursor: pointer;\n",
              "      display: none;\n",
              "      fill: #1967D2;\n",
              "      height: 32px;\n",
              "      padding: 0 0 0 0;\n",
              "      width: 32px;\n",
              "    }\n",
              "\n",
              "    .colab-df-convert:hover {\n",
              "      background-color: #E2EBFA;\n",
              "      box-shadow: 0px 1px 2px rgba(60, 64, 67, 0.3), 0px 1px 3px 1px rgba(60, 64, 67, 0.15);\n",
              "      fill: #174EA6;\n",
              "    }\n",
              "\n",
              "    .colab-df-buttons div {\n",
              "      margin-bottom: 4px;\n",
              "    }\n",
              "\n",
              "    [theme=dark] .colab-df-convert {\n",
              "      background-color: #3B4455;\n",
              "      fill: #D2E3FC;\n",
              "    }\n",
              "\n",
              "    [theme=dark] .colab-df-convert:hover {\n",
              "      background-color: #434B5C;\n",
              "      box-shadow: 0px 1px 3px 1px rgba(0, 0, 0, 0.15);\n",
              "      filter: drop-shadow(0px 1px 2px rgba(0, 0, 0, 0.3));\n",
              "      fill: #FFFFFF;\n",
              "    }\n",
              "  </style>\n",
              "\n",
              "    <script>\n",
              "      const buttonEl =\n",
              "        document.querySelector('#df-aced2bc2-63ec-49f1-b893-e9e8efe2fa97 button.colab-df-convert');\n",
              "      buttonEl.style.display =\n",
              "        google.colab.kernel.accessAllowed ? 'block' : 'none';\n",
              "\n",
              "      async function convertToInteractive(key) {\n",
              "        const element = document.querySelector('#df-aced2bc2-63ec-49f1-b893-e9e8efe2fa97');\n",
              "        const dataTable =\n",
              "          await google.colab.kernel.invokeFunction('convertToInteractive',\n",
              "                                                    [key], {});\n",
              "        if (!dataTable) return;\n",
              "\n",
              "        const docLinkHtml = 'Like what you see? Visit the ' +\n",
              "          '<a target=\"_blank\" href=https://colab.research.google.com/notebooks/data_table.ipynb>data table notebook</a>'\n",
              "          + ' to learn more about interactive tables.';\n",
              "        element.innerHTML = '';\n",
              "        dataTable['output_type'] = 'display_data';\n",
              "        await google.colab.output.renderOutput(dataTable, element);\n",
              "        const docLink = document.createElement('div');\n",
              "        docLink.innerHTML = docLinkHtml;\n",
              "        element.appendChild(docLink);\n",
              "      }\n",
              "    </script>\n",
              "  </div>\n",
              "\n",
              "\n",
              "    </div>\n",
              "  </div>\n"
            ],
            "application/vnd.google.colaboratory.intrinsic+json": {
              "type": "dataframe",
              "repr_error": "Out of range float values are not JSON compliant: nan"
            }
          },
          "metadata": {},
          "execution_count": 15
        }
      ]
    },
    {
      "cell_type": "code",
      "source": [
        "# verify the replacement\n",
        "data.isnull().sum()"
      ],
      "metadata": {
        "collapsed": true,
        "colab": {
          "base_uri": "https://localhost:8080/",
          "height": 523
        },
        "id": "qICUSbo306xX",
        "outputId": "0b3b9384-528c-4c4b-c105-49f23141b664"
      },
      "execution_count": null,
      "outputs": [
        {
          "output_type": "execute_result",
          "data": {
            "text/plain": [
              "No.                     0\n",
              "Date                    0\n",
              "1st-Response Date       0\n",
              "Close Date              0\n",
              "Request Type            0\n",
              "Subject                 0\n",
              "Status                  0\n",
              "Priority                0\n",
              "Company                 0\n",
              "Location                0\n",
              "Request Detail          0\n",
              "Notes                   0\n",
              "Brand Name              0\n",
              "Device Serial Number    0\n",
              "dtype: int64"
            ],
            "text/html": [
              "<div>\n",
              "<style scoped>\n",
              "    .dataframe tbody tr th:only-of-type {\n",
              "        vertical-align: middle;\n",
              "    }\n",
              "\n",
              "    .dataframe tbody tr th {\n",
              "        vertical-align: top;\n",
              "    }\n",
              "\n",
              "    .dataframe thead th {\n",
              "        text-align: right;\n",
              "    }\n",
              "</style>\n",
              "<table border=\"1\" class=\"dataframe\">\n",
              "  <thead>\n",
              "    <tr style=\"text-align: right;\">\n",
              "      <th></th>\n",
              "      <th>0</th>\n",
              "    </tr>\n",
              "  </thead>\n",
              "  <tbody>\n",
              "    <tr>\n",
              "      <th>No.</th>\n",
              "      <td>0</td>\n",
              "    </tr>\n",
              "    <tr>\n",
              "      <th>Date</th>\n",
              "      <td>0</td>\n",
              "    </tr>\n",
              "    <tr>\n",
              "      <th>1st-Response Date</th>\n",
              "      <td>0</td>\n",
              "    </tr>\n",
              "    <tr>\n",
              "      <th>Close Date</th>\n",
              "      <td>0</td>\n",
              "    </tr>\n",
              "    <tr>\n",
              "      <th>Request Type</th>\n",
              "      <td>0</td>\n",
              "    </tr>\n",
              "    <tr>\n",
              "      <th>Subject</th>\n",
              "      <td>0</td>\n",
              "    </tr>\n",
              "    <tr>\n",
              "      <th>Status</th>\n",
              "      <td>0</td>\n",
              "    </tr>\n",
              "    <tr>\n",
              "      <th>Priority</th>\n",
              "      <td>0</td>\n",
              "    </tr>\n",
              "    <tr>\n",
              "      <th>Company</th>\n",
              "      <td>0</td>\n",
              "    </tr>\n",
              "    <tr>\n",
              "      <th>Location</th>\n",
              "      <td>0</td>\n",
              "    </tr>\n",
              "    <tr>\n",
              "      <th>Request Detail</th>\n",
              "      <td>0</td>\n",
              "    </tr>\n",
              "    <tr>\n",
              "      <th>Notes</th>\n",
              "      <td>0</td>\n",
              "    </tr>\n",
              "    <tr>\n",
              "      <th>Brand Name</th>\n",
              "      <td>0</td>\n",
              "    </tr>\n",
              "    <tr>\n",
              "      <th>Device Serial Number</th>\n",
              "      <td>0</td>\n",
              "    </tr>\n",
              "  </tbody>\n",
              "</table>\n",
              "</div><br><label><b>dtype:</b> int64</label>"
            ]
          },
          "metadata": {},
          "execution_count": 16
        }
      ]
    },
    {
      "cell_type": "markdown",
      "source": [
        "\n",
        "# Text Cleaning Function for Preprocessing Ticket Data"
      ],
      "metadata": {
        "id": "-iKILJjoTZiW"
      }
    },
    {
      "cell_type": "code",
      "execution_count": null,
      "metadata": {
        "id": "_08POMO825QW"
      },
      "outputs": [],
      "source": [
        "import re  # Importing the re module for regular expression operations\n",
        "\n",
        "def clean_text(text):\n",
        "    # Define patterns to remove from the text\n",
        "    patterns = [\n",
        "        r'--\\s*[\\w\\s]+$',  # Simplified pattern for email signature\n",
        "        r'\\bconfidentiality notice\\b.*',  # Pattern to match confidentiality notices\n",
        "        r'\\*[^*]*\\*',  # Pattern to match text enclosed in asterisks\n",
        "        r'\\تنبيه بإخلاء المسئولية\\b.*'  # Pattern to match disclaimer notices in Arabic\n",
        "    ]\n",
        "\n",
        "    # Loop through each pattern and apply the substitution\n",
        "    for pattern in patterns:\n",
        "        text = re.sub(pattern, '', text, flags=re.DOTALL | re.IGNORECASE)\n",
        "\n",
        "    # Return the cleaned text\n",
        "    return text\n",
        "\n",
        "# Apply the clean_text function to the 'Request Detail' column,\n",
        "# creating a new column 'Request_Detail_Clean' to store the cleaned text.\n",
        "data['Request_Detail_Clean'] = data['Request Detail'].apply(lambda x: clean_text(x) if pd.notnull(x) else '')\n"
      ]
    },
    {
      "cell_type": "markdown",
      "source": [
        "# Function to Remove Extra Spaces and Normalize Whitespace"
      ],
      "metadata": {
        "id": "vzJkHXnJUHN6"
      }
    },
    {
      "cell_type": "code",
      "execution_count": null,
      "metadata": {
        "id": "3dzpvx2M25QY"
      },
      "outputs": [],
      "source": [
        "def remove_extra_spaces(text):\n",
        "    # Remove multiple consecutive whitespace characters (spaces, tabs, newlines, carriage returns)\n",
        "    text = re.sub(r'\\s+', ' ', text)\n",
        "\n",
        "    # Remove leading and trailing whitespace\n",
        "    text = text.strip()\n",
        "\n",
        "    return text\n",
        "\n",
        "# Example text with extra spaces and newlines\n",
        "\n",
        "# Remove extra spaces\n",
        "data['Request_Detail_Clean'] = data['Request_Detail_Clean'].apply(lambda x: remove_extra_spaces(x) if pd.notnull(x) else '')\n"
      ]
    },
    {
      "cell_type": "code",
      "execution_count": null,
      "metadata": {
        "colab": {
          "base_uri": "https://localhost:8080/",
          "height": 458
        },
        "id": "RGRI23t525QZ",
        "outputId": "706d92ec-61db-4381-b10c-a9d3dcfe9a8b",
        "collapsed": true
      },
      "outputs": [
        {
          "output_type": "execute_result",
          "data": {
            "text/plain": [
              "0       نفيد سعادتكم بوجود مشكله في جهاز عيادة العظام ...\n",
              "1       ________________________________ من: Ahmed Ibr...\n",
              "2       شركة المعمر الأعزاء نقيدكم بانشاء نقاط جديدة و...\n",
              "3       بعض القطع في الجهاز تحتاج تركيب Serial number ...\n",
              "4       السلام عليكم الى شركة المعمر الموقره نود منكم ...\n",
              "                              ...                        \n",
              "1058    اتاحة خاصية لتمكنا من الدخول على DNS الخاص بال...\n",
              "1059    طابعة متعطله بقسم القانونية والالتزام اسم الطا...\n",
              "1060    السادة شركة المعمر المحترمين السلام عليكم ورحم...\n",
              "1061    السلام عليكم ورحمة الله وبركاته السادة شركة ال...\n",
              "1062                                    صيانة scan kodack\n",
              "Name: Request_Detail_Clean, Length: 1063, dtype: object"
            ],
            "text/html": [
              "<div>\n",
              "<style scoped>\n",
              "    .dataframe tbody tr th:only-of-type {\n",
              "        vertical-align: middle;\n",
              "    }\n",
              "\n",
              "    .dataframe tbody tr th {\n",
              "        vertical-align: top;\n",
              "    }\n",
              "\n",
              "    .dataframe thead th {\n",
              "        text-align: right;\n",
              "    }\n",
              "</style>\n",
              "<table border=\"1\" class=\"dataframe\">\n",
              "  <thead>\n",
              "    <tr style=\"text-align: right;\">\n",
              "      <th></th>\n",
              "      <th>Request_Detail_Clean</th>\n",
              "    </tr>\n",
              "  </thead>\n",
              "  <tbody>\n",
              "    <tr>\n",
              "      <th>0</th>\n",
              "      <td>نفيد سعادتكم بوجود مشكله في جهاز عيادة العظام ...</td>\n",
              "    </tr>\n",
              "    <tr>\n",
              "      <th>1</th>\n",
              "      <td>________________________________ من: Ahmed Ibr...</td>\n",
              "    </tr>\n",
              "    <tr>\n",
              "      <th>2</th>\n",
              "      <td>شركة المعمر الأعزاء نقيدكم بانشاء نقاط جديدة و...</td>\n",
              "    </tr>\n",
              "    <tr>\n",
              "      <th>3</th>\n",
              "      <td>بعض القطع في الجهاز تحتاج تركيب Serial number ...</td>\n",
              "    </tr>\n",
              "    <tr>\n",
              "      <th>4</th>\n",
              "      <td>السلام عليكم الى شركة المعمر الموقره نود منكم ...</td>\n",
              "    </tr>\n",
              "    <tr>\n",
              "      <th>...</th>\n",
              "      <td>...</td>\n",
              "    </tr>\n",
              "    <tr>\n",
              "      <th>1058</th>\n",
              "      <td>اتاحة خاصية لتمكنا من الدخول على DNS الخاص بال...</td>\n",
              "    </tr>\n",
              "    <tr>\n",
              "      <th>1059</th>\n",
              "      <td>طابعة متعطله بقسم القانونية والالتزام اسم الطا...</td>\n",
              "    </tr>\n",
              "    <tr>\n",
              "      <th>1060</th>\n",
              "      <td>السادة شركة المعمر المحترمين السلام عليكم ورحم...</td>\n",
              "    </tr>\n",
              "    <tr>\n",
              "      <th>1061</th>\n",
              "      <td>السلام عليكم ورحمة الله وبركاته السادة شركة ال...</td>\n",
              "    </tr>\n",
              "    <tr>\n",
              "      <th>1062</th>\n",
              "      <td>صيانة scan kodack</td>\n",
              "    </tr>\n",
              "  </tbody>\n",
              "</table>\n",
              "<p>1063 rows × 1 columns</p>\n",
              "</div><br><label><b>dtype:</b> object</label>"
            ]
          },
          "metadata": {},
          "execution_count": 19
        }
      ],
      "source": [
        "# Accessing the cleaned request details from the DataFrame\n",
        "data['Request_Detail_Clean']\n"
      ]
    },
    {
      "cell_type": "markdown",
      "source": [
        "#Tokenization and Stopword Removal Setup Using NLTK\n"
      ],
      "metadata": {
        "id": "6ABtpsK9T-xz"
      }
    },
    {
      "cell_type": "code",
      "execution_count": null,
      "metadata": {
        "colab": {
          "base_uri": "https://localhost:8080/"
        },
        "id": "bQEOH4nL25Qb",
        "outputId": "36342319-45cb-43a9-ad9a-56945f0da759"
      },
      "outputs": [
        {
          "output_type": "stream",
          "name": "stderr",
          "text": [
            "[nltk_data] Downloading package stopwords to /root/nltk_data...\n",
            "[nltk_data]   Unzipping corpora/stopwords.zip.\n",
            "[nltk_data] Downloading package punkt to /root/nltk_data...\n",
            "[nltk_data]   Unzipping tokenizers/punkt.zip.\n"
          ]
        }
      ],
      "source": [
        "# Importing the word_tokenize function from nltk for tokenizing text into words\n",
        "from nltk.tokenize import word_tokenize\n",
        "\n",
        "# Downloading the 'stopwords' dataset from NLTK for filtering out common words\n",
        "nltk.download('stopwords')\n",
        "# Downloading the 'punkt' tokenizer models from NLTK for tokenization\n",
        "nltk.download('punkt')\n",
        "\n",
        "# Creating a set of English stopwords\n",
        "stop_words_en = set(stopwords.words('english'))\n",
        "# Creating a set of Arabic stopwords\n",
        "stop_words_ar = set(stopwords.words('arabic'))\n"
      ]
    },
    {
      "cell_type": "markdown",
      "source": [
        "#Comprehensive Text Cleaning and Tokenization for Request Details and Notes"
      ],
      "metadata": {
        "id": "zPHXV0jfUTCL"
      }
    },
    {
      "cell_type": "code",
      "execution_count": null,
      "metadata": {
        "colab": {
          "base_uri": "https://localhost:8080/"
        },
        "id": "dKulQIyU25Qc",
        "outputId": "5151c221-d8f9-46af-918b-bf776bff91fb",
        "collapsed": true
      },
      "outputs": [
        {
          "output_type": "stream",
          "name": "stdout",
          "text": [
            "                                Request_Detail_Clean  \\\n",
            "0  نفيد سعادتكم بوجود مشكله جهاز عيادة العظام انه...   \n",
            "1  ________________________________ ahmed ibrahim...   \n",
            "2  شركة المعمر الأعزاء نقيدكم بانشاء نقاط جديدة و...   \n",
            "3      القطع الجهاز تحتاج تركيب serial number blzqzi   \n",
            "4  السلام عليكم الى شركة المعمر الموقره نود منكم ...   \n",
            "\n",
            "                                         Notes_Clean  \n",
            "0  note date pm authoraabdullkareemccscomsa typet...  \n",
            "1  note date authormezzatccscomjo typetech time r...  \n",
            "2                                                     \n",
            "3  note date pm authormezzatccscomjo typetech tim...  \n",
            "4  note date pm authoromarmukhtarccscomsa typetec...  \n"
          ]
        }
      ],
      "source": [
        "# Function to clean the input text\n",
        "def clean_text(text):\n",
        "    # Check if the input is not a string; if not, return an empty string\n",
        "    if not isinstance(text, str):\n",
        "        return ''\n",
        "\n",
        "    # Remove all punctuation from the text\n",
        "    text = re.sub(r'[^\\w\\s]', '', text)\n",
        "    # Remove all digits from the text\n",
        "    text = re.sub(r'\\d+', '', text)\n",
        "\n",
        "    # Convert the text to lowercase\n",
        "    text = text.lower()\n",
        "\n",
        "    # Tokenize the text into individual words\n",
        "    tokens = word_tokenize(text)\n",
        "    # Filter out stopwords for both English and Arabic\n",
        "    tokens = [word for word in tokens if word not in stop_words_en and word not in stop_words_ar]\n",
        "\n",
        "    # Join the cleaned tokens back into a single string\n",
        "    return ' '.join(tokens)\n",
        "\n",
        "# Apply the clean_text function to the 'Request_Detail_Clean' column, creating a cleaned version of the text\n",
        "data['Request_Detail_Clean'] = data['Request_Detail_Clean'].apply(lambda x: clean_text(x) if pd.notnull(x) else '')\n",
        "# Apply the clean_text function to the 'Notes' column, creating a new cleaned version of the text\n",
        "data['Notes_Clean'] = data['Notes'].apply(lambda x: clean_text(x) if pd.notnull(x) else '')\n",
        "\n",
        "# Display the first five rows of the cleaned request details and notes\n",
        "print(data[['Request_Detail_Clean', 'Notes_Clean']].head())\n"
      ]
    },
    {
      "cell_type": "code",
      "execution_count": null,
      "metadata": {
        "colab": {
          "base_uri": "https://localhost:8080/",
          "height": 53
        },
        "id": "mVUu36nyxTvf",
        "outputId": "17ef0355-b190-4374-b329-1605e2515529"
      },
      "outputs": [
        {
          "output_type": "execute_result",
          "data": {
            "text/plain": [
              "'نفيد سعادتكم بوجود مشكله جهاز عيادة العظام انه يمكن الدخول وفتح الجهاز بيوزر موظف وزاره الصحة نوع الجهاز deel optiplex رقم الجهاز dlhpj برجاء الاطلاع وتوجيه المختصين ليدكم لحل المشكلة ولكم جزيل الشكر مدير تقنية المعلومات بمستشفى السليل العام منصور بن عبدالله الحابي mansour abdullah alhabi'"
            ],
            "application/vnd.google.colaboratory.intrinsic+json": {
              "type": "string"
            }
          },
          "metadata": {},
          "execution_count": 22
        }
      ],
      "source": [
        "data['Request_Detail_Clean'][0]"
      ]
    },
    {
      "cell_type": "markdown",
      "source": [
        "#Displaying Original vs Cleaned Text for Request Details and Notes\n"
      ],
      "metadata": {
        "id": "0dXsKVBHVKMd"
      }
    },
    {
      "cell_type": "code",
      "execution_count": null,
      "metadata": {
        "colab": {
          "base_uri": "https://localhost:8080/"
        },
        "id": "q-hyZJbGEPtp",
        "outputId": "8764c713-50b5-4bb3-a75f-3bbd33615e65",
        "collapsed": true
      },
      "outputs": [
        {
          "output_type": "stream",
          "name": "stdout",
          "text": [
            "Before Cleaning:\n",
            "                                      Request Detail  \\\n",
            "0  *** This is an external email. Be Vigilant and...   \n",
            "1  *** This is an external email. Be Vigilant and...   \n",
            "2  *** This is an external email. Be Vigilant and...   \n",
            "3  *** This is an external email. Be Vigilant and...   \n",
            "4  *** This is an external email. Be Vigilant and...   \n",
            "\n",
            "                                               Notes  \n",
            "0  <note date=\"6/30/22 2:18 pm\" author=\"a.abdullk...  \n",
            "1  <note date=\"6/30/22 9:47 am\" author=\"m.ezzat@c...  \n",
            "2                                                     \n",
            "3  <note date=\"6/29/22 12:02 pm\" author=\"m.ezzat@...  \n",
            "4  <note date=\"6/29/22 12:01 pm\" author=\"Omar.Muk...  \n",
            "\n",
            "After Cleaning:\n",
            "                                Request_Detail_Clean  \\\n",
            "0  نفيد سعادتكم بوجود مشكله جهاز عيادة العظام انه...   \n",
            "1  ________________________________ ahmed ibrahim...   \n",
            "2  شركة المعمر الأعزاء نقيدكم بانشاء نقاط جديدة و...   \n",
            "3      القطع الجهاز تحتاج تركيب serial number blzqzi   \n",
            "4  السلام عليكم الى شركة المعمر الموقره نود منكم ...   \n",
            "\n",
            "                                         Notes_Clean  \n",
            "0  note date pm authoraabdullkareemccscomsa typet...  \n",
            "1  note date authormezzatccscomjo typetech time r...  \n",
            "2                                                     \n",
            "3  note date pm authormezzatccscomjo typetech tim...  \n",
            "4  note date pm authoromarmukhtarccscomsa typetec...  \n"
          ]
        }
      ],
      "source": [
        "# Print a message indicating that the original text will be displayed before cleaning\n",
        "print(\"Before Cleaning:\")\n",
        "# Display the first five rows of the original 'Request Detail' and 'Notes' columns\n",
        "print(data[['Request Detail', 'Notes']].head())\n",
        "\n",
        "# Print a newline for better separation in output\n",
        "print(\"\\nAfter Cleaning:\")\n",
        "# Display the first five rows of the cleaned 'Request_Detail_Clean' and 'Notes_Clean' columns\n",
        "print(data[['Request_Detail_Clean', 'Notes_Clean']].head())\n"
      ]
    },
    {
      "cell_type": "markdown",
      "source": [
        "#Counting Missing Values Before and After Text Cleaning\n"
      ],
      "metadata": {
        "id": "uq_WpN9kWS-a"
      }
    },
    {
      "cell_type": "code",
      "execution_count": null,
      "metadata": {
        "colab": {
          "base_uri": "https://localhost:8080/"
        },
        "id": "d4Qfs4QpEa0U",
        "outputId": "5b41de8f-129f-41cb-ead4-922ca5562d74"
      },
      "outputs": [
        {
          "output_type": "stream",
          "name": "stdout",
          "text": [
            "Number of missing values before cleaning:\n",
            "Request Detail    0\n",
            "Notes             0\n",
            "dtype: int64\n",
            "\n",
            "Number of missing values after cleaning:\n",
            "Request_Detail_Clean    0\n",
            "Notes_Clean             0\n",
            "dtype: int64\n"
          ]
        }
      ],
      "source": [
        "# Print a message indicating that the count of missing values before cleaning will be displayed\n",
        "print(\"Number of missing values before cleaning:\")\n",
        "# Display the count of missing values in the 'Request Detail' and 'Notes' columns\n",
        "print(data[['Request Detail', 'Notes']].isnull().sum())\n",
        "\n",
        "# Print a newline for better separation in output\n",
        "print(\"\\nNumber of missing values after cleaning:\")\n",
        "# Display the count of missing values in the 'Request_Detail_Clean' and 'Notes_Clean' columns\n",
        "print(data[['Request_Detail_Clean', 'Notes_Clean']].isnull().sum())\n"
      ]
    },
    {
      "cell_type": "code",
      "execution_count": null,
      "metadata": {
        "colab": {
          "base_uri": "https://localhost:8080/"
        },
        "id": "LJ4fM6PjEj7y",
        "outputId": "cca906b2-8686-4995-bc33-21d256712359"
      },
      "outputs": [
        {
          "output_type": "stream",
          "name": "stdout",
          "text": [
            "                                         Request Detail  \\\n",
            "443   Dear ITteam,\\r\\r\\rGreeting,\\r\\r\\r\\rWe have a O...   \n",
            "855   Dear MIS Support team ,\\r\\r\\r\\rWe have a probl...   \n",
            "460   ,Dear MIS Support team\\r We have a problem wit...   \n",
            "932   السلام عليكم نأمل  المساعدة بضبط عدادات  كمرة ...   \n",
            "1012  Asalamualikum,\\r\\rHP Desktop Display Problem.\\...   \n",
            "769   السلام عليكم ورحمة الله وبركاته\\r\\rنامل منكم ت...   \n",
            "732   القسم . مدير الصيانة\\r\\rالعطل . شبكة مستشفى ال...   \n",
            "349   السلام عليكم\\r\\rأخواننا في شركة المعمر نأمل من...   \n",
            "121   Date/Time Event 2022-06-06 11:12 AST\\r\\rThreat...   \n",
            "918   Hello,\\r\\rWe have a Dell Laptop and have issue...   \n",
            "\n",
            "                                   Request_Detail_Clean  \n",
            "443   dear itteam greeting ou folder need someone ex...  \n",
            "855   dear mis support team problem pc internet work...  \n",
            "460   dear mis support team problem pc windows ram s...  \n",
            "932   السلام عليكم نأمل المساعدة بضبط عدادات كمرة الفرز  \n",
            "1012  asalamualikum hp desktop display problem hp se...  \n",
            "769   السلام عليكم ورحمة الله وبركاته نامل منكم توجي...  \n",
            "732   القسم مدير الصيانة العطل شبكة مستشفى الحريق ال...  \n",
            "349   السلام عليكم أخواننا شركة المعمر نأمل منكم إصل...  \n",
            "121   datetime event ast threat unauthorized access ...  \n",
            "918   hello dell laptop issue batter details laptop ...  \n",
            "                                                  Notes  \\\n",
            "719   <note date=\"3/3/22 12:29 pm\" author=\"a.aljrbou...   \n",
            "581   <note date=\"3/15/22 9:08 am\" author=\"sara.alba...   \n",
            "770   <note date=\"3/26/22 1:54 pm\" author=\"okhadra\" ...   \n",
            "879   <note date=\"2/1/22 2:16 pm\" author=\"okhadra\" t...   \n",
            "753   <note date=\"3/1/22 12:11 pm\" author=\"a.aljrbou...   \n",
            "852   <note date=\"2/7/22 10:56 am\" author=\"sara.alba...   \n",
            "1027  <note date=\"1/6/22 10:31 am\" author=\"rashid.hu...   \n",
            "236   <note date=\"5/24/22 6:12 pm\" author=\"wd.mutasi...   \n",
            "98    <note date=\"6/16/22 12:25 pm\" author=\"m.ezzat@...   \n",
            "287   <note date=\"5/29/22 3:11 pm\" author=\"rashid.hu...   \n",
            "\n",
            "                                            Notes_Clean  \n",
            "719   note date pm authoraaljrbouaccscomsa typetech ...  \n",
            "581   note date authorsaraalbakheetccscomsa typetech...  \n",
            "770   note date pm authorokhadra typetech time rateا...  \n",
            "879   note date pm authorokhadra typetech time rateo...  \n",
            "753   note date pm authoraaljrbouaccscomsa typetech ...  \n",
            "852   note date authorsaraalbakheetccscomsa typetech...  \n",
            "1027  note date authorrashidhusainccscomsa typetech ...  \n",
            "236   note date pm authorwdmutasimggmailcom typetech...  \n",
            "98    note date pm authormezzatccscomjo typetech tim...  \n",
            "287   note date pm authorrashidhusainccscomsa typete...  \n"
          ]
        }
      ],
      "source": [
        "print(data[['Request Detail', 'Request_Detail_Clean']].sample(10))\n",
        "print(data[['Notes', 'Notes_Clean']].sample(10))\n"
      ]
    },
    {
      "cell_type": "code",
      "execution_count": null,
      "metadata": {
        "colab": {
          "base_uri": "https://localhost:8080/"
        },
        "id": "ZKpegCzRFAzX",
        "outputId": "af75117b-8563-46de-bb6c-7cea315d63cb"
      },
      "outputs": [
        {
          "output_type": "stream",
          "name": "stdout",
          "text": [
            "Index(['No.', 'Date', '1st-Response Date', 'Close Date', 'Request Type',\n",
            "       'Subject', 'Status', 'Priority', 'Company', 'Location',\n",
            "       'Request Detail', 'Notes', 'Brand Name', 'Device Serial Number',\n",
            "       'Request_Detail_Clean', 'Notes_Clean'],\n",
            "      dtype='object')\n"
          ]
        }
      ],
      "source": [
        "print(data.columns)\n"
      ]
    },
    {
      "cell_type": "markdown",
      "source": [
        "#Word Frequency Analysis and Data Preparation for Word Clouds\n"
      ],
      "metadata": {
        "id": "hYG4B-zWXwnf"
      }
    },
    {
      "cell_type": "code",
      "source": [
        "import matplotlib.pyplot as plt\n",
        "from wordcloud import WordCloud\n",
        "from collections import Counter\n",
        "\n",
        "# Word frequency analysis for \"Request Detail\"\n",
        "request_words = ' '.join(data['Request_Detail_Clean'])\n",
        "notes_words = ' '.join(data['Notes_Clean'])\n"
      ],
      "metadata": {
        "id": "et_JVUoRqD_U"
      },
      "execution_count": null,
      "outputs": []
    },
    {
      "cell_type": "code",
      "source": [
        "# Frequency counts\n",
        "request_freq = Counter(request_words.split())\n",
        "notes_freq = Counter(notes_words.split())\n"
      ],
      "metadata": {
        "id": "P1y88eupqIwz"
      },
      "execution_count": null,
      "outputs": []
    },
    {
      "cell_type": "markdown",
      "source": [
        "#Word Cloud Visualization for Most Frequent Words in Request Detail\n"
      ],
      "metadata": {
        "id": "gbhKwm0YYNWh"
      }
    },
    {
      "cell_type": "code",
      "source": [
        "# Visualize with WordCloud for \"Request Detail\"\n",
        "plt.figure(figsize=(10, 6))\n",
        "wordcloud = WordCloud(width=800, height=400, background_color='white').generate(request_words)\n",
        "plt.imshow(wordcloud, interpolation='bilinear')\n",
        "plt.axis('off')\n",
        "plt.title('Most Frequent Words in Request Detail')\n",
        "plt.show()\n"
      ],
      "metadata": {
        "colab": {
          "base_uri": "https://localhost:8080/",
          "height": 446
        },
        "id": "-5z0jAAXqLnQ",
        "outputId": "043efa3f-89a4-4aa6-a1a8-36ad28d55e2d"
      },
      "execution_count": null,
      "outputs": [
        {
          "output_type": "display_data",
          "data": {
            "text/plain": [
              "<Figure size 1000x600 with 1 Axes>"
            ],
            "image/png": "[encoded data removed]"
          },
          "metadata": {}
        }
      ]
    },
    {
      "cell_type": "code",
      "source": [
        "\n",
        "# Top 10 frequent words\n",
        "print(\"Top 10 Words in Request Detail:\", request_freq.most_common(10))"
      ],
      "metadata": {
        "colab": {
          "base_uri": "https://localhost:8080/"
        },
        "id": "QPQ_7Yg1qhaI",
        "outputId": "61993a2b-cc78-4013-ea0d-7b94a4f60a2d"
      },
      "execution_count": null,
      "outputs": [
        {
          "output_type": "stream",
          "name": "stdout",
          "text": [
            "Top 10 Words in Request Detail: [('hospital', 667), ('device', 621), ('number', 515), ('عليكم', 405), ('السلام', 394), ('issue', 388), ('dear', 360), ('hp', 359), ('name', 358), ('support', 350)]\n"
          ]
        }
      ]
    },
    {
      "cell_type": "markdown",
      "source": [
        "#Feature Engineering: Text Length and Word Count with Correlation Matrix Visualization"
      ],
      "metadata": {
        "id": "CBQ1sVgZYXKW"
      }
    },
    {
      "cell_type": "code",
      "source": [
        "# Add new features: length of the text and word count\n",
        "# Calculate the length of the cleaned request detail text and store it in a new column\n",
        "data['Request_Detail_Length'] = data['Request_Detail_Clean'].apply(lambda x: len(str(x)))\n",
        "# Calculate the word count of the cleaned request detail text and store it in a new column\n",
        "data['Request_Detail_WordCount'] = data['Request_Detail_Clean'].apply(lambda x: len(str(x).split()))\n",
        "\n",
        "# Display the correlation matrix for the newly created features\n",
        "correlation_matrix = data[['Request_Detail_Length', 'Request_Detail_WordCount']].corr()\n",
        "\n",
        "# Import seaborn for visualization\n",
        "import seaborn as sns\n",
        "# Create a heatmap to visualize the correlation matrix with annotations\n",
        "sns.heatmap(correlation_matrix, annot=True, cmap='coolwarm')\n",
        "# Set the title for the heatmap\n",
        "plt.title('Correlation Matrix')\n",
        "# Show the plot\n",
        "plt.show()\n"
      ],
      "metadata": {
        "colab": {
          "base_uri": "https://localhost:8080/"
        },
        "id": "rGoGzDCZupQ7",
        "outputId": "aeea37db-a39c-4de4-aa9e-274dde79eef4"
      },
      "execution_count": null,
      "outputs": [
        {
          "output_type": "display_data",
          "data": {
            "text/plain": [
              "<Figure size 640x480 with 2 Axes>"
            ],
            "image/png": "[encoded data removed]"
          },
          "metadata": {}
        }
      ]
    },
    {
      "cell_type": "markdown",
      "source": [
        "#Distribution of Text Lengths in Request Detail Field\n"
      ],
      "metadata": {
        "id": "fGySwsMyYnSz"
      }
    },
    {
      "cell_type": "code",
      "source": [
        "# Display the distribution of text lengths in the \"Request Detail\" field\n",
        "# Set the size of the figure for better visibility\n",
        "plt.figure(figsize=(12, 6))\n",
        "# Create a histogram to show the distribution of request detail lengths\n",
        "sns.histplot(data['Request_Detail_Length'], bins=50, color='purple')\n",
        "# Set the title for the histogram\n",
        "plt.title('Distribution of Request Detail Lengths')\n",
        "# Set the x-axis label\n",
        "plt.xlabel('Length of Text')\n",
        "# Set the y-axis label\n",
        "plt.ylabel('Frequency')\n",
        "# Show the plot\n",
        "plt.show()\n"
      ],
      "metadata": {
        "colab": {
          "base_uri": "https://localhost:8080/"
        },
        "id": "DFNO0tXousZD",
        "outputId": "129c8ed2-f880-4ec0-9f7f-7e5ef79e0275"
      },
      "execution_count": null,
      "outputs": [
        {
          "output_type": "display_data",
          "data": {
            "text/plain": [
              "<Figure size 1200x600 with 1 Axes>"
            ],
            "image/png": "[encoded data removed]"
          },
          "metadata": {}
        }
      ]
    },
    {
      "cell_type": "markdown",
      "source": [
        "  # Descriptive Statistics for 'Request_Detail_Length"
      ],
      "metadata": {
        "id": "AmYody-baUm9"
      }
    },
    {
      "cell_type": "code",
      "source": [
        "print(\"Descriptive Statistics for 'Request_Detail_Length':\")\n",
        "print(data['Request_Detail_Length'].describe())\n"
      ],
      "metadata": {
        "colab": {
          "base_uri": "https://localhost:8080/"
        },
        "id": "w4T7ABl1uwnF",
        "outputId": "42fae3e0-7e78-4dd9-8f88-7720dd020dc2"
      },
      "execution_count": null,
      "outputs": [
        {
          "output_type": "stream",
          "name": "stdout",
          "text": [
            "Descriptive Statistics for 'Request_Detail_Length':\n",
            "count     1063.000000\n",
            "mean       331.864534\n",
            "std        928.014351\n",
            "min         10.000000\n",
            "25%        110.000000\n",
            "50%        201.000000\n",
            "75%        269.000000\n",
            "max      11354.000000\n",
            "Name: Request_Detail_Length, dtype: float64\n"
          ]
        }
      ]
    },
    {
      "cell_type": "markdown",
      "source": [
        "#           PCA Dimensionality Reduction\n"
      ],
      "metadata": {
        "id": "gUwwkCPCadPb"
      }
    },
    {
      "cell_type": "code",
      "source": [
        "# Importing PCA for dimensionality reduction and numpy for numerical operations\n",
        "from sklearn.decomposition import PCA\n",
        "import numpy as np\n",
        "\n",
        "# Selecting numerical features for PCA\n",
        "# Create a DataFrame with the specified numeric features, dropping any rows with missing values\n",
        "numeric_features = data[['Request_Detail_Length', 'Request_Detail_WordCount']].dropna()\n",
        "\n",
        "# Apply PCA to reduce the dimensionality of the dataset\n",
        "pca = PCA(n_components=2)  # Set the number of components to 2\n",
        "pca_result = pca.fit_transform(numeric_features)  # Fit and transform the data\n",
        "\n",
        "# Display the explained variance ratio for each principal component\n",
        "print(f\"Explained variance by component: {pca.explained_variance_ratio_}\")\n"
      ],
      "metadata": {
        "colab": {
          "base_uri": "https://localhost:8080/"
        },
        "id": "_aYPAZYCu2WH",
        "outputId": "775e6884-2bec-4ef0-a5ec-edb723b81ac3"
      },
      "execution_count": null,
      "outputs": [
        {
          "output_type": "stream",
          "name": "stdout",
          "text": [
            "Explained variance by component: [9.99640483e-01 3.59516802e-04]\n"
          ]
        }
      ]
    },
    {
      "cell_type": "markdown",
      "source": [
        "#Text Classification Using Predefined Keywords"
      ],
      "metadata": {
        "id": "HYJp-hHcam6J"
      }
    },
    {
      "cell_type": "code",
      "source": [
        "# Define custom keywords for label extraction\n",
        "technical_issue_keywords = ['error', 'fail', 'problem', 'crash', 'unresponsive', 'timeout', 'failure', 'bug', 'issue',\n",
        "                            'عطل', 'مشكلة', 'خطأ', 'فشل', 'توقف', 'انهيار', 'مشكلة تقنية', 'خطأ في النظام', 'عطل في الجهاز']\n",
        "\n",
        "# الفئة الثانية: طلبات خدمة\n",
        "service_request_keywords = ['request', 'service', 'support', 'install', 'setup', 'help', 'upgrade', 'maintenance',\n",
        "                            'طلب', 'خدمة', 'دعم', 'تركيب', 'إعداد', 'مساعدة', 'صيانة', 'ترقية', 'خدمة عملاء']\n",
        "\n",
        "# الفئة الثالثة: استفسار عام\n",
        "general_inquiry_keywords = ['inquiry', 'query', 'question', 'ask', 'clarify', 'information', 'details',\n",
        "                            'استفسار', 'سؤال', 'طلب توضيح', 'استيضاح', 'معلومات', 'تفاصيل']\n",
        "\n",
        "def classify_text(text, language='english'):\n",
        "    \"\"\"\n",
        "    Classifies text based on predefined keywords.\n",
        "    \"\"\"\n",
        "    if language == 'arabic':\n",
        "        if any(keyword in text for keyword in technical_issue_keywords):\n",
        "            return 'مشكلة تقنية (Technical Issue)'\n",
        "        elif any(keyword in text for keyword in service_request_keywords):\n",
        "            return 'طلب خدمة (Service Request)'\n",
        "        elif any(keyword in text for keyword in general_inquiry_keywords):\n",
        "            return 'استفسار عام (General Inquiry)'\n",
        "        else:\n",
        "            return 'أخرى (Other)'\n",
        "    else:  # English Text\n",
        "        if any(keyword in text for keyword in technical_issue_keywords):\n",
        "            return 'Technical Issue'\n",
        "        elif any(keyword in text for keyword in service_request_keywords):\n",
        "            return 'Service Request'\n",
        "        elif any(keyword in text for keyword in general_inquiry_keywords):\n",
        "            return 'General Inquiry'\n",
        "        else:\n",
        "            return 'Other'\n",
        "\n",
        "# Apply classification to \"Request Detail\" and \"Notes\"\n",
        "data['Request_Label'] = data['Request_Detail_Clean'].apply(classify_text)\n",
        "data['Notes_Label'] = data['Notes_Clean'].apply(classify_text)\n",
        "\n",
        "# Display the new labels\n",
        "print(\"Labels after classification:\")\n",
        "print(data[['Request_Label', 'Notes_Label']].head(10))\n"
      ],
      "metadata": {
        "colab": {
          "base_uri": "https://localhost:8080/"
        },
        "id": "pIVVDXmuqovm",
        "outputId": "0f80a3d7-a5f5-4159-9ffc-e9be6f2a4907"
      },
      "execution_count": null,
      "outputs": [
        {
          "output_type": "stream",
          "name": "stdout",
          "text": [
            "Labels after classification:\n",
            "     Request_Label      Notes_Label\n",
            "0  Technical Issue  Technical Issue\n",
            "1  Technical Issue  Technical Issue\n",
            "2            Other            Other\n",
            "3  Service Request            Other\n",
            "4  Service Request            Other\n",
            "5  Technical Issue            Other\n",
            "6  Technical Issue  Technical Issue\n",
            "7            Other  Technical Issue\n",
            "8            Other            Other\n",
            "9  Technical Issue            Other\n"
          ]
        }
      ]
    },
    {
      "cell_type": "markdown",
      "source": [],
      "metadata": {
        "id": "psj7o7KdapN7"
      }
    },
    {
      "cell_type": "markdown",
      "source": [
        "#Random Forest Model Training and Feature Importance"
      ],
      "metadata": {
        "id": "T2bFCSqAauNz"
      }
    },
    {
      "cell_type": "code",
      "source": [
        "# Importing the RandomForestClassifier for model training\n",
        "from sklearn.ensemble import RandomForestClassifier\n",
        "\n",
        "# Prepare the data for use in the model\n",
        "# X contains the features (numeric_features) used for training\n",
        "X = numeric_features\n",
        "# y contains the labels for classification; dropping any missing values\n",
        "y = data['Request_Label'].dropna()  # The column extracted for final classification\n",
        "\n",
        "# Train a Random Forest model to determine feature importance\n",
        "clf = RandomForestClassifier()  # Create an instance of the Random Forest classifier\n",
        "clf.fit(X, y)  # Fit the model to the training data\n",
        "\n",
        "# Extract feature importances from the trained model\n",
        "feature_importances = pd.Series(clf.feature_importances_, index=X.columns)\n",
        "# Print the feature importances sorted in descending order\n",
        "print(\"Feature Importance:\\n\", feature_importances.sort_values(ascending=False))\n"
      ],
      "metadata": {
        "colab": {
          "base_uri": "https://localhost:8080/"
        },
        "id": "U-wwkNIQvK6g",
        "outputId": "257e4ff7-f4a3-46c6-fbd7-b745a23299ac"
      },
      "execution_count": null,
      "outputs": [
        {
          "output_type": "stream",
          "name": "stdout",
          "text": [
            "Feature Importance:\n",
            " Request_Detail_Length       0.65119\n",
            "Request_Detail_WordCount    0.34881\n",
            "dtype: float64\n"
          ]
        }
      ]
    },
    {
      "cell_type": "markdown",
      "source": [
        "#Feature Engineering: Technical Issue Keyword Presence"
      ],
      "metadata": {
        "id": "i-3VRx8ba0mE"
      }
    },
    {
      "cell_type": "code",
      "source": [
        "# Extract a new feature: presence of a technical issue keyword\n",
        "# Check if any of the specified technical issue keywords are present in the cleaned request detail text\n",
        "data['Has_Technical_Issue_Keyword'] = data['Request_Detail_Clean'].apply(lambda x: 1 if any(keyword in x for keyword in technical_issue_keywords) else 0)\n",
        "\n",
        "# Display the results\n",
        "# Show the first row of the cleaned request detail and the new feature indicating the presence of a technical issue keyword\n",
        "print(data[['Request_Detail_Clean', 'Has_Technical_Issue_Keyword']].head(5))\n"
      ],
      "metadata": {
        "colab": {
          "base_uri": "https://localhost:8080/"
        },
        "id": "c5ktWXzTvVBb",
        "outputId": "da97ad4a-ee9b-4c25-ebaf-511671f13276"
      },
      "execution_count": null,
      "outputs": [
        {
          "output_type": "stream",
          "name": "stdout",
          "text": [
            "                                Request_Detail_Clean  \\\n",
            "0  نفيد سعادتكم بوجود مشكله جهاز عيادة العظام انه...   \n",
            "1  ________________________________ ahmed ibrahim...   \n",
            "2  شركة المعمر الأعزاء نقيدكم بانشاء نقاط جديدة و...   \n",
            "3      القطع الجهاز تحتاج تركيب serial number blzqzi   \n",
            "4  السلام عليكم الى شركة المعمر الموقره نود منكم ...   \n",
            "\n",
            "   Has_Technical_Issue_Keyword  \n",
            "0                            1  \n",
            "1                            1  \n",
            "2                            0  \n",
            "3                            0  \n",
            "4                            0  \n"
          ]
        }
      ]
    },
    {
      "cell_type": "markdown",
      "source": [
        "# Model Training and Evaluation with Text Features"
      ],
      "metadata": {
        "id": "nWpreQzia-H9"
      }
    },
    {
      "cell_type": "code",
      "source": [
        "# Import necessary libraries for model training and evaluation\n",
        "from sklearn.model_selection import train_test_split\n",
        "from sklearn.feature_extraction.text import TfidfVectorizer\n",
        "from sklearn.ensemble import RandomForestClassifier\n",
        "from sklearn.svm import SVC\n",
        "from sklearn.metrics import accuracy_score, precision_score, recall_score, classification_report\n",
        "\n",
        "# Prepare data for modeling\n",
        "# Create a TF-IDF vectorizer to convert text data into feature vectors\n",
        "tfidf = TfidfVectorizer(max_features=1000)  # Limit to 1000 features for simplicity\n",
        "X = tfidf.fit_transform(data['Request_Detail_Clean'])  # Transform the cleaned request details into TF-IDF features\n",
        "y = data['Request_Label']  # Define the target variable (labels)\n"
      ],
      "metadata": {
        "id": "SVyqFvlsa9ii"
      },
      "execution_count": null,
      "outputs": []
    },
    {
      "cell_type": "markdown",
      "source": [],
      "metadata": {
        "id": "byUAzw61bF8J"
      }
    },
    {
      "cell_type": "markdown",
      "source": [
        "#Random Forest Classifier: Training and Performance Evaluation"
      ],
      "metadata": {
        "id": "rUBEl127bQBy"
      }
    },
    {
      "cell_type": "code",
      "source": [
        "# Train-test split\n",
        "# Split the dataset into training and testing sets (80% train, 20% test)\n",
        "X_train, X_test, y_train, y_test = train_test_split(X, y, test_size=0.2, random_state=42)\n",
        "\n",
        "# 1. RandomForest Classifier\n",
        "rf_model = RandomForestClassifier()  # Create an instance of the Random Forest classifier\n",
        "rf_model.fit(X_train, y_train)  # Train the model on the training data\n",
        "y_pred_rf = rf_model.predict(X_test)  # Make predictions on the test set\n",
        "\n",
        "# Evaluation\n",
        "print(\"RandomForest Classifier Performance:\")\n",
        "# Print the classification report for Random Forest model\n",
        "print(classification_report(y_test, y_pred_rf))"
      ],
      "metadata": {
        "colab": {
          "base_uri": "https://localhost:8080/"
        },
        "id": "sRfSc3QdbFyL",
        "outputId": "525128bc-4ea8-47ce-bf79-38896bac170c"
      },
      "execution_count": null,
      "outputs": [
        {
          "output_type": "stream",
          "name": "stdout",
          "text": [
            "RandomForest Classifier Performance:\n",
            "                 precision    recall  f1-score   support\n",
            "\n",
            "General Inquiry       0.00      0.00      0.00         1\n",
            "          Other       0.94      0.98      0.96       122\n",
            "Service Request       0.75      0.50      0.60        12\n",
            "Technical Issue       0.95      0.95      0.95        78\n",
            "\n",
            "       accuracy                           0.93       213\n",
            "      macro avg       0.66      0.61      0.63       213\n",
            "   weighted avg       0.93      0.93      0.93       213\n",
            "\n"
          ]
        },
        {
          "output_type": "stream",
          "name": "stderr",
          "text": [
            "/usr/local/lib/python3.10/dist-packages/sklearn/metrics/_classification.py:1531: UndefinedMetricWarning: Precision is ill-defined and being set to 0.0 in labels with no predicted samples. Use `zero_division` parameter to control this behavior.\n",
            "  _warn_prf(average, modifier, f\"{metric.capitalize()} is\", len(result))\n",
            "/usr/local/lib/python3.10/dist-packages/sklearn/metrics/_classification.py:1531: UndefinedMetricWarning: Precision is ill-defined and being set to 0.0 in labels with no predicted samples. Use `zero_division` parameter to control this behavior.\n",
            "  _warn_prf(average, modifier, f\"{metric.capitalize()} is\", len(result))\n",
            "/usr/local/lib/python3.10/dist-packages/sklearn/metrics/_classification.py:1531: UndefinedMetricWarning: Precision is ill-defined and being set to 0.0 in labels with no predicted samples. Use `zero_division` parameter to control this behavior.\n",
            "  _warn_prf(average, modifier, f\"{metric.capitalize()} is\", len(result))\n"
          ]
        }
      ]
    },
    {
      "cell_type": "markdown",
      "source": [
        "#Support Vector Machine (SVM) Classifier:Training and Performance Evaluation"
      ],
      "metadata": {
        "id": "NMauMxIIbVQr"
      }
    },
    {
      "cell_type": "code",
      "source": [
        "# 2. Support Vector Machine (SVM)\n",
        "svm_model = SVC(kernel='linear')  # Create an instance of the SVM classifier with a linear kernel\n",
        "svm_model.fit(X_train, y_train)  # Train the SVM model on the training data\n",
        "y_pred_svm = svm_model.predict(X_test)  # Make predictions on the test set\n",
        "\n",
        "# Evaluation\n",
        "print(\"SVM Classifier Performance:\")\n",
        "# Print the classification report for SVM model\n",
        "print(classification_report(y_test, y_pred_svm))\n"
      ],
      "metadata": {
        "colab": {
          "base_uri": "https://localhost:8080/"
        },
        "id": "90c-yYLvq4eD",
        "outputId": "c374d5ba-dd07-43df-8b74-8834f3282800"
      },
      "execution_count": null,
      "outputs": [
        {
          "output_type": "stream",
          "name": "stdout",
          "text": [
            "SVM Classifier Performance:\n",
            "                 precision    recall  f1-score   support\n",
            "\n",
            "General Inquiry       0.00      0.00      0.00         1\n",
            "          Other       0.87      0.95      0.91       122\n",
            "Service Request       1.00      0.58      0.74        12\n",
            "Technical Issue       0.92      0.86      0.89        78\n",
            "\n",
            "       accuracy                           0.89       213\n",
            "      macro avg       0.70      0.60      0.63       213\n",
            "   weighted avg       0.89      0.89      0.89       213\n",
            "\n"
          ]
        },
        {
          "output_type": "stream",
          "name": "stderr",
          "text": [
            "/usr/local/lib/python3.10/dist-packages/sklearn/metrics/_classification.py:1531: UndefinedMetricWarning: Precision is ill-defined and being set to 0.0 in labels with no predicted samples. Use `zero_division` parameter to control this behavior.\n",
            "  _warn_prf(average, modifier, f\"{metric.capitalize()} is\", len(result))\n",
            "/usr/local/lib/python3.10/dist-packages/sklearn/metrics/_classification.py:1531: UndefinedMetricWarning: Precision is ill-defined and being set to 0.0 in labels with no predicted samples. Use `zero_division` parameter to control this behavior.\n",
            "  _warn_prf(average, modifier, f\"{metric.capitalize()} is\", len(result))\n",
            "/usr/local/lib/python3.10/dist-packages/sklearn/metrics/_classification.py:1531: UndefinedMetricWarning: Precision is ill-defined and being set to 0.0 in labels with no predicted samples. Use `zero_division` parameter to control this behavior.\n",
            "  _warn_prf(average, modifier, f\"{metric.capitalize()} is\", len(result))\n"
          ]
        }
      ]
    },
    {
      "cell_type": "markdown",
      "source": [
        "#legacy Feature Extraction Using TF-IDF and Train-Test Split"
      ],
      "metadata": {
        "id": "CkM7PqKAb3Uy"
      }
    },
    {
      "cell_type": "code",
      "source": [
        "\n",
        "# Legacy feature extraction using TF-IDF\n",
        "tfidf = TfidfVectorizer(max_features=1000)\n",
        "X_tfidf = tfidf.fit_transform(data['Request_Detail_Clean'])\n",
        "y = data['Request_Label']\n",
        "\n",
        "# Train-test split for TF-IDF features\n",
        "X_train_tfidf, X_test_tfidf, y_train, y_test = train_test_split(X_tfidf, y, test_size=0.2, random_state=42)\n"
      ],
      "metadata": {
        "id": "u-CmeHqD50M_"
      },
      "execution_count": null,
      "outputs": []
    },
    {
      "cell_type": "markdown",
      "source": [
        "#PCA on TF-IDF Features with Visualization"
      ],
      "metadata": {
        "id": "LjRYP1hSb96B"
      }
    },
    {
      "cell_type": "code",
      "execution_count": null,
      "metadata": {
        "colab": {
          "base_uri": "https://localhost:8080/"
        },
        "id": "8_O4XT5q_DgQ",
        "outputId": "3fcd8d6b-99a1-4f64-d671-9764713d0f3e"
      },
      "outputs": [
        {
          "output_type": "display_data",
          "data": {
            "text/plain": [
              "<Figure size 800x600 with 1 Axes>"
            ],
            "image/png": "[encoded data removed]"
          },
          "metadata": {}
        }
      ],
      "source": [
        "from sklearn.decomposition import PCA\n",
        "from sklearn.feature_extraction.text import TfidfVectorizer\n",
        "import matplotlib.pyplot as plt\n",
        "\n",
        "# Step 1: TF-IDF Vectorization (to transform the textual data into numerical form)\n",
        "tfidf_vectorizer = TfidfVectorizer(max_features=1000)\n",
        "X_tfidf = tfidf_vectorizer.fit_transform(data['Request_Detail_Clean'])  # Assuming cleaned_text is the column with preprocessed data\n",
        "\n",
        "# Step 2: Apply PCA to reduce the dimensionality of the TF-IDF vectors\n",
        "pca = PCA(n_components=2)  # Reducing to 2 components for easy visualization\n",
        "X_pca = pca.fit_transform(X_tfidf.toarray())\n",
        "\n",
        "# Step 3: Visualize the 2D PCA results\n",
        "plt.figure(figsize=(8, 6))\n",
        "plt.scatter(X_pca[:, 0], X_pca[:, 1], c='blue', edgecolor='k', s=20)\n",
        "plt.title('PCA on TF-IDF Features')\n",
        "plt.xlabel('PC1')\n",
        "plt.ylabel('PC2')\n",
        "plt.show()\n"
      ]
    },
    {
      "cell_type": "markdown",
      "source": [
        "#Training a Random Forest Classifier Using TF-IDF Features"
      ],
      "metadata": {
        "id": "oRxvxTwNcO3d"
      }
    },
    {
      "cell_type": "code",
      "source": [
        "# Train Random Forest Classifier using TF-IDF features\n",
        "rf_model = RandomForestClassifier()\n",
        "rf_model.fit(X_train_tfidf, y_train)\n",
        "y_pred_rf = rf_model.predict(X_test_tfidf)\n",
        "print(\"RandomForest Classifier Performance:\")\n",
        "print(classification_report(y_test, y_pred_rf))"
      ],
      "metadata": {
        "colab": {
          "base_uri": "https://localhost:8080/"
        },
        "id": "vIO3H83x52_z",
        "outputId": "01af8eea-a894-49d0-ec15-aabd4895c0b1"
      },
      "execution_count": null,
      "outputs": [
        {
          "output_type": "stream",
          "name": "stdout",
          "text": [
            "RandomForest Classifier Performance:\n",
            "                 precision    recall  f1-score   support\n",
            "\n",
            "General Inquiry       0.00      0.00      0.00         1\n",
            "          Other       0.91      0.97      0.94       122\n",
            "Service Request       1.00      0.33      0.50        12\n",
            "Technical Issue       0.94      0.95      0.94        78\n",
            "\n",
            "       accuracy                           0.92       213\n",
            "      macro avg       0.71      0.56      0.59       213\n",
            "   weighted avg       0.92      0.92      0.91       213\n",
            "\n"
          ]
        },
        {
          "output_type": "stream",
          "name": "stderr",
          "text": [
            "/usr/local/lib/python3.10/dist-packages/sklearn/metrics/_classification.py:1531: UndefinedMetricWarning: Precision is ill-defined and being set to 0.0 in labels with no predicted samples. Use `zero_division` parameter to control this behavior.\n",
            "  _warn_prf(average, modifier, f\"{metric.capitalize()} is\", len(result))\n",
            "/usr/local/lib/python3.10/dist-packages/sklearn/metrics/_classification.py:1531: UndefinedMetricWarning: Precision is ill-defined and being set to 0.0 in labels with no predicted samples. Use `zero_division` parameter to control this behavior.\n",
            "  _warn_prf(average, modifier, f\"{metric.capitalize()} is\", len(result))\n",
            "/usr/local/lib/python3.10/dist-packages/sklearn/metrics/_classification.py:1531: UndefinedMetricWarning: Precision is ill-defined and being set to 0.0 in labels with no predicted samples. Use `zero_division` parameter to control this behavior.\n",
            "  _warn_prf(average, modifier, f\"{metric.capitalize()} is\", len(result))\n"
          ]
        }
      ]
    },
    {
      "cell_type": "code",
      "source": [
        "from transformers import BertForSequenceClassification\n",
        "\n",
        "# تحميل نموذج BERT للتصنيف\n",
        "model = BertForSequenceClassification.from_pretrained('bert-base-uncased', num_labels=2)"
      ],
      "metadata": {
        "id": "FVPA26TOB1Vo"
      },
      "execution_count": null,
      "outputs": []
    },
    {
      "cell_type": "code",
      "source": [
        "from torch.utils.data import DataLoader, TensorDataset\n",
        "import torch\n",
        "\n",
        "# تحويل النصوص والتصنيفات إلى Tensor\n",
        "train_dataset = TensorDataset(train_encodings['input_ids'], train_encodings['attention_mask'], torch.tensor(train_labels.tolist()))\n",
        "test_dataset = TensorDataset(test_encodings['input_ids'], test_encodings['attention_mask'], torch.tensor(test_labels.tolist()))\n",
        "\n",
        "# إعداد DataLoader\n",
        "train_loader = DataLoader(train_dataset, batch_size=16)\n",
        "test_loader = DataLoader(test_dataset, batch_size=16)"
      ],
      "metadata": {
        "id": "fFToy5gKB4AC"
      },
      "execution_count": null,
      "outputs": []
    },
    {
      "cell_type": "code",
      "source": [
        "from transformers import Trainer, TrainingArguments\n",
        "\n",
        "# إعداد معلمات التدريب\n",
        "training_args = TrainingArguments(\n",
        "    output_dir='./results',          # مكان حفظ النتائج\n",
        "        evaluation_strategy=\"epoch\",     # تقييم في نهاية كل دورة\n",
        "            learning_rate=2e-5,              # معدل التعلم\n",
        "                per_device_train_batch_size=16,  # حجم الدفعة لكل جهاز\n",
        "                    per_device_eval_batch_size=16,   # حجم الدفعة للتقييم\n",
        "                        num_train_epochs=3,              # عدد الدورات التدريبية\n",
        "                            weight_decay=0.01,               # عامل تقليل الوزن\n",
        "                            )"
      ],
      "metadata": {
        "id": "BxBwA_RNCDbn"
      },
      "execution_count": null,
      "outputs": []
    },
    {
      "cell_type": "code",
      "source": [
        "trainer = Trainer(\n",
        "      model=model,\n",
        "          args=training_args,\n",
        "              train_dataset=train_dataset,\n",
        "                  eval_dataset=test_dataset,\n",
        "                  )\n",
        "\n",
        "                  # البدء في التدريب\n",
        "                  trainer.train()\n",
        "\n",
        "                  # تقييم النموذج\n",
        "                  trainer.evaluate()\n",
        ")"
      ],
      "metadata": {
        "id": "A_DZihlSCT4z"
      },
      "execution_count": null,
      "outputs": []
    }
  ],
  "metadata": {
    "accelerator": "GPU",
    "colab": {
      "gpuType": "T4",
      "provenance": [],
      "include_colab_link": true
    },
    "kaggle": {
      "accelerator": "nvidiaTeslaT4",
      "dataSources": [
        {
          "datasetId": 5766404,
          "sourceId": 9480231,
          "sourceType": "datasetVersion"
        }
      ],
      "dockerImageVersionId": 30776,
      "isGpuEnabled": true,
      "isInternetEnabled": true,
      "language": "python",
      "sourceType": "notebook"
    },
    "kernelspec": {
      "display_name": "Python 3",
      "name": "python3"
    },
    "language_info": {
      "codemirror_mode": {
        "name": "ipython",
        "version": 3
      },
      "file_extension": ".py",
      "mimetype": "text/x-python",
      "name": "python",
      "nbconvert_exporter": "python",
      "pygments_lexer": "ipython3",
      "version": "3.10.14"
    }
  },
  "nbformat": 4,
  "nbformat_minor": 0
}
